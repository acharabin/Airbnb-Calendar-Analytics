{
 "cells": [
  {
   "cell_type": "markdown",
   "id": "4e855e4e-c29a-43ad-9100-47dc1a1f45a9",
   "metadata": {},
   "source": [
    "# Airbnb Calendar Analytics\n",
    "**By AC on July 9, 2024**"
   ]
  },
  {
   "cell_type": "markdown",
   "id": "7617cf3f-5adc-4ab3-96b0-d9e4b447a3ef",
   "metadata": {},
   "source": [
    "## 0. Dependencies"
   ]
  },
  {
   "cell_type": "markdown",
   "id": "517ba1ee-5a2e-45ce-98ea-f143cab53c08",
   "metadata": {},
   "source": [
    "#### 0.1 Import Packages"
   ]
  },
  {
   "cell_type": "code",
   "execution_count": 1,
   "id": "c9c0f7e4-facb-44bd-b447-8c4488078675",
   "metadata": {},
   "outputs": [],
   "source": [
    "import numpy as np, pandas as pd, matplotlib.pyplot as plt, ast, seaborn as sb, statsmodels.api as sm, warnings"
   ]
  },
  {
   "cell_type": "markdown",
   "id": "424cfedd-0e80-4959-a5bd-988f41951cd0",
   "metadata": {},
   "source": [
    "#### 0.2 Load Datasets\n",
    "##### Note: ensure respective files are located in the DS folder within the working directory"
   ]
  },
  {
   "cell_type": "code",
   "execution_count": 2,
   "id": "837ff0d4-9440-4fc7-8bf4-bc09bf47f458",
   "metadata": {},
   "outputs": [
    {
     "data": {
      "text/html": [
       "<div>\n",
       "<style scoped>\n",
       "    .dataframe tbody tr th:only-of-type {\n",
       "        vertical-align: middle;\n",
       "    }\n",
       "\n",
       "    .dataframe tbody tr th {\n",
       "        vertical-align: top;\n",
       "    }\n",
       "\n",
       "    .dataframe thead th {\n",
       "        text-align: right;\n",
       "    }\n",
       "</style>\n",
       "<table border=\"1\" class=\"dataframe\">\n",
       "  <thead>\n",
       "    <tr style=\"text-align: right;\">\n",
       "      <th></th>\n",
       "      <th>id</th>\n",
       "      <th>host_id</th>\n",
       "      <th>host_name</th>\n",
       "      <th>host_since</th>\n",
       "      <th>host_response_time</th>\n",
       "      <th>host_response_rate</th>\n",
       "      <th>host_acceptance_rate</th>\n",
       "      <th>host_is_superhost</th>\n",
       "      <th>host_verifications</th>\n",
       "      <th>host_identity_verified</th>\n",
       "      <th>...</th>\n",
       "      <th>beds</th>\n",
       "      <th>amenities</th>\n",
       "      <th>minimum_nights</th>\n",
       "      <th>maximum_nights</th>\n",
       "      <th>has_availability</th>\n",
       "      <th>availability_365</th>\n",
       "      <th>number_of_reviews</th>\n",
       "      <th>review_scores_rating</th>\n",
       "      <th>instant_bookable</th>\n",
       "      <th>reviews_per_month</th>\n",
       "    </tr>\n",
       "  </thead>\n",
       "  <tbody>\n",
       "    <tr>\n",
       "      <th>0</th>\n",
       "      <td>12651</td>\n",
       "      <td>49735</td>\n",
       "      <td>Laurel</td>\n",
       "      <td>10/29/09</td>\n",
       "      <td>within an hour</td>\n",
       "      <td>100%</td>\n",
       "      <td>98%</td>\n",
       "      <td>t</td>\n",
       "      <td>['email', 'phone', 'facebook', 'reviews', 'kba']</td>\n",
       "      <td>t</td>\n",
       "      <td>...</td>\n",
       "      <td>1.0</td>\n",
       "      <td>[\"Private entrance\", \"Long term stays allowed\"...</td>\n",
       "      <td>3</td>\n",
       "      <td>365</td>\n",
       "      <td>t</td>\n",
       "      <td>356</td>\n",
       "      <td>151</td>\n",
       "      <td>98.0</td>\n",
       "      <td>t</td>\n",
       "      <td>1.13</td>\n",
       "    </tr>\n",
       "  </tbody>\n",
       "</table>\n",
       "<p>1 rows × 24 columns</p>\n",
       "</div>"
      ],
      "text/plain": [
       "      id  host_id host_name host_since host_response_time host_response_rate  \\\n",
       "0  12651    49735    Laurel   10/29/09     within an hour               100%   \n",
       "\n",
       "  host_acceptance_rate host_is_superhost  \\\n",
       "0                  98%                 t   \n",
       "\n",
       "                                 host_verifications host_identity_verified  \\\n",
       "0  ['email', 'phone', 'facebook', 'reviews', 'kba']                      t   \n",
       "\n",
       "   ... beds                                          amenities  \\\n",
       "0  ...  1.0  [\"Private entrance\", \"Long term stays allowed\"...   \n",
       "\n",
       "   minimum_nights  maximum_nights  has_availability availability_365  \\\n",
       "0               3             365                 t              356   \n",
       "\n",
       "   number_of_reviews  review_scores_rating instant_bookable  reviews_per_month  \n",
       "0                151                  98.0                t               1.13  \n",
       "\n",
       "[1 rows x 24 columns]"
      ]
     },
     "execution_count": 2,
     "metadata": {},
     "output_type": "execute_result"
    }
   ],
   "source": [
    "calendar = pd.read_csv(\"DS//calendar.csv\")\n",
    "listings = pd.read_csv(\"DS//listings.csv\")\n",
    "calendar.head(1)\n",
    "listings.head(1)"
   ]
  },
  {
   "cell_type": "markdown",
   "id": "c28e4ef1-7831-422c-92b6-19a9b0ae580f",
   "metadata": {},
   "source": [
    "## 1.  Please review the integrity of the data. Do you notice any data anomalies? If so, please describe them."
   ]
  },
  {
   "cell_type": "markdown",
   "id": "3182f461-d8e9-4a28-8832-c4de38a1cd3e",
   "metadata": {},
   "source": [
    "#### 1.1 Dataset Summary Statistics"
   ]
  },
  {
   "cell_type": "markdown",
   "id": "610859e7-74a6-41af-b22c-c72c3edcd5ac",
   "metadata": {},
   "source": [
    "#### Listings"
   ]
  },
  {
   "cell_type": "code",
   "execution_count": 3,
   "id": "a23ace37-ce74-4fbe-a0a8-fa74eae38512",
   "metadata": {},
   "outputs": [],
   "source": [
    "# Convert IDs to object type in order to output unique values using describe\n",
    "listings['id'] = listings['id'].astype('object')\n",
    "listings['host_id'] = listings['host_id'].astype('object')\n",
    "\n",
    "# Convert rates to float\n",
    "listings['host_response_rate'] = listings['host_response_rate'].str.replace(\"%\",\"\").astype('float64')\n",
    "listings['host_acceptance_rate'] = listings['host_acceptance_rate'].str.replace(\"%\",\"\").astype('float64')\n",
    "\n",
    "# Parse dates\n",
    "listings['host_since'] = pd.to_datetime(listings['host_since'], format = '%m/%d/%y')\n",
    "\n",
    "# Convert t/f to 1/0\n",
    "listings['host_is_superhost'] = np.where(listings['host_is_superhost'] == 't',1,0)\n",
    "listings['host_identity_verified'] = np.where(listings['host_identity_verified'] == 't',1,0)\n",
    "listings['has_availability'] = np.where(listings['has_availability'] == 't',1,0)\n",
    "listings['instant_bookable'] = np.where(listings['instant_bookable'] == 't',1,0)"
   ]
  },
  {
   "cell_type": "code",
   "execution_count": 4,
   "id": "89082ead-59c9-474c-83f6-e5759a98b73e",
   "metadata": {},
   "outputs": [
    {
     "name": "stdout",
     "output_type": "stream",
     "text": [
      "<class 'pandas.core.frame.DataFrame'>\n",
      "RangeIndex: 2693 entries, 0 to 2692\n",
      "Data columns (total 24 columns):\n",
      " #   Column                  Non-Null Count  Dtype         \n",
      "---  ------                  --------------  -----         \n",
      " 0   id                      2693 non-null   object        \n",
      " 1   host_id                 2693 non-null   object        \n",
      " 2   host_name               2693 non-null   object        \n",
      " 3   host_since              2693 non-null   datetime64[ns]\n",
      " 4   host_response_time      2132 non-null   object        \n",
      " 5   host_response_rate      2132 non-null   float64       \n",
      " 6   host_acceptance_rate    2387 non-null   float64       \n",
      " 7   host_is_superhost       2693 non-null   int32         \n",
      " 8   host_verifications      2693 non-null   object        \n",
      " 9   host_identity_verified  2693 non-null   int32         \n",
      " 10  neighbourhood           2693 non-null   object        \n",
      " 11  room_type               2693 non-null   object        \n",
      " 12  accommodates            2693 non-null   int64         \n",
      " 13  bedrooms                2529 non-null   float64       \n",
      " 14  beds                    2659 non-null   float64       \n",
      " 15  amenities               2693 non-null   object        \n",
      " 16  minimum_nights          2693 non-null   int64         \n",
      " 17  maximum_nights          2693 non-null   int64         \n",
      " 18  has_availability        2693 non-null   int32         \n",
      " 19  availability_365        2693 non-null   int64         \n",
      " 20  number_of_reviews       2693 non-null   int64         \n",
      " 21  review_scores_rating    2279 non-null   float64       \n",
      " 22  instant_bookable        2693 non-null   int32         \n",
      " 23  reviews_per_month       2293 non-null   float64       \n",
      "dtypes: datetime64[ns](1), float64(6), int32(4), int64(5), object(8)\n",
      "memory usage: 463.0+ KB\n"
     ]
    }
   ],
   "source": [
    "listings.info()"
   ]
  },
  {
   "cell_type": "code",
   "execution_count": 5,
   "id": "4f445d7f-afa8-4bd7-80eb-2119a77a66bb",
   "metadata": {},
   "outputs": [
    {
     "data": {
      "text/html": [
       "<div>\n",
       "<style scoped>\n",
       "    .dataframe tbody tr th:only-of-type {\n",
       "        vertical-align: middle;\n",
       "    }\n",
       "\n",
       "    .dataframe tbody tr th {\n",
       "        vertical-align: top;\n",
       "    }\n",
       "\n",
       "    .dataframe thead th {\n",
       "        text-align: right;\n",
       "    }\n",
       "</style>\n",
       "<table border=\"1\" class=\"dataframe\">\n",
       "  <thead>\n",
       "    <tr style=\"text-align: right;\">\n",
       "      <th></th>\n",
       "      <th>host_since</th>\n",
       "      <th>host_response_rate</th>\n",
       "      <th>host_acceptance_rate</th>\n",
       "      <th>host_is_superhost</th>\n",
       "      <th>host_identity_verified</th>\n",
       "      <th>accommodates</th>\n",
       "      <th>bedrooms</th>\n",
       "      <th>beds</th>\n",
       "      <th>minimum_nights</th>\n",
       "      <th>maximum_nights</th>\n",
       "      <th>has_availability</th>\n",
       "      <th>availability_365</th>\n",
       "      <th>number_of_reviews</th>\n",
       "      <th>review_scores_rating</th>\n",
       "      <th>instant_bookable</th>\n",
       "      <th>reviews_per_month</th>\n",
       "    </tr>\n",
       "  </thead>\n",
       "  <tbody>\n",
       "    <tr>\n",
       "      <th>count</th>\n",
       "      <td>2693</td>\n",
       "      <td>2132.000000</td>\n",
       "      <td>2387.000000</td>\n",
       "      <td>2693.000000</td>\n",
       "      <td>2693.000000</td>\n",
       "      <td>2693.000000</td>\n",
       "      <td>2529.000000</td>\n",
       "      <td>2659.000000</td>\n",
       "      <td>2693.000000</td>\n",
       "      <td>2693.000000</td>\n",
       "      <td>2693.000000</td>\n",
       "      <td>2693.000000</td>\n",
       "      <td>2693.000000</td>\n",
       "      <td>2279.000000</td>\n",
       "      <td>2693.000000</td>\n",
       "      <td>2293.000000</td>\n",
       "    </tr>\n",
       "    <tr>\n",
       "      <th>mean</th>\n",
       "      <td>2015-11-21 16:32:26.379502336</td>\n",
       "      <td>95.402908</td>\n",
       "      <td>89.405111</td>\n",
       "      <td>0.447456</td>\n",
       "      <td>0.807278</td>\n",
       "      <td>3.869662</td>\n",
       "      <td>1.708976</td>\n",
       "      <td>2.219631</td>\n",
       "      <td>8.086521</td>\n",
       "      <td>631.439658</td>\n",
       "      <td>0.988489</td>\n",
       "      <td>181.115113</td>\n",
       "      <td>52.891199</td>\n",
       "      <td>95.740237</td>\n",
       "      <td>0.394356</td>\n",
       "      <td>1.874348</td>\n",
       "    </tr>\n",
       "    <tr>\n",
       "      <th>min</th>\n",
       "      <td>2008-03-31 00:00:00</td>\n",
       "      <td>0.000000</td>\n",
       "      <td>0.000000</td>\n",
       "      <td>0.000000</td>\n",
       "      <td>0.000000</td>\n",
       "      <td>0.000000</td>\n",
       "      <td>1.000000</td>\n",
       "      <td>0.000000</td>\n",
       "      <td>1.000000</td>\n",
       "      <td>1.000000</td>\n",
       "      <td>0.000000</td>\n",
       "      <td>0.000000</td>\n",
       "      <td>0.000000</td>\n",
       "      <td>20.000000</td>\n",
       "      <td>0.000000</td>\n",
       "      <td>0.010000</td>\n",
       "    </tr>\n",
       "    <tr>\n",
       "      <th>25%</th>\n",
       "      <td>2014-04-06 00:00:00</td>\n",
       "      <td>100.000000</td>\n",
       "      <td>90.000000</td>\n",
       "      <td>0.000000</td>\n",
       "      <td>1.000000</td>\n",
       "      <td>2.000000</td>\n",
       "      <td>1.000000</td>\n",
       "      <td>1.000000</td>\n",
       "      <td>1.000000</td>\n",
       "      <td>31.000000</td>\n",
       "      <td>1.000000</td>\n",
       "      <td>70.000000</td>\n",
       "      <td>2.000000</td>\n",
       "      <td>94.000000</td>\n",
       "      <td>0.000000</td>\n",
       "      <td>0.390000</td>\n",
       "    </tr>\n",
       "    <tr>\n",
       "      <th>50%</th>\n",
       "      <td>2015-11-02 00:00:00</td>\n",
       "      <td>100.000000</td>\n",
       "      <td>98.000000</td>\n",
       "      <td>0.000000</td>\n",
       "      <td>1.000000</td>\n",
       "      <td>2.000000</td>\n",
       "      <td>1.000000</td>\n",
       "      <td>1.000000</td>\n",
       "      <td>2.000000</td>\n",
       "      <td>1124.000000</td>\n",
       "      <td>1.000000</td>\n",
       "      <td>172.000000</td>\n",
       "      <td>20.000000</td>\n",
       "      <td>97.000000</td>\n",
       "      <td>0.000000</td>\n",
       "      <td>1.180000</td>\n",
       "    </tr>\n",
       "    <tr>\n",
       "      <th>75%</th>\n",
       "      <td>2017-08-24 00:00:00</td>\n",
       "      <td>100.000000</td>\n",
       "      <td>100.000000</td>\n",
       "      <td>1.000000</td>\n",
       "      <td>1.000000</td>\n",
       "      <td>5.000000</td>\n",
       "      <td>2.000000</td>\n",
       "      <td>3.000000</td>\n",
       "      <td>5.000000</td>\n",
       "      <td>1125.000000</td>\n",
       "      <td>1.000000</td>\n",
       "      <td>341.000000</td>\n",
       "      <td>68.000000</td>\n",
       "      <td>100.000000</td>\n",
       "      <td>1.000000</td>\n",
       "      <td>2.710000</td>\n",
       "    </tr>\n",
       "    <tr>\n",
       "      <th>max</th>\n",
       "      <td>2021-01-01 00:00:00</td>\n",
       "      <td>100.000000</td>\n",
       "      <td>100.000000</td>\n",
       "      <td>1.000000</td>\n",
       "      <td>1.000000</td>\n",
       "      <td>16.000000</td>\n",
       "      <td>8.000000</td>\n",
       "      <td>27.000000</td>\n",
       "      <td>365.000000</td>\n",
       "      <td>10000.000000</td>\n",
       "      <td>1.000000</td>\n",
       "      <td>365.000000</td>\n",
       "      <td>711.000000</td>\n",
       "      <td>100.000000</td>\n",
       "      <td>1.000000</td>\n",
       "      <td>20.040000</td>\n",
       "    </tr>\n",
       "    <tr>\n",
       "      <th>std</th>\n",
       "      <td>NaN</td>\n",
       "      <td>14.625032</td>\n",
       "      <td>20.709495</td>\n",
       "      <td>0.497324</td>\n",
       "      <td>0.394510</td>\n",
       "      <td>3.156237</td>\n",
       "      <td>1.156607</td>\n",
       "      <td>2.031332</td>\n",
       "      <td>18.128635</td>\n",
       "      <td>545.467062</td>\n",
       "      <td>0.106691</td>\n",
       "      <td>135.635961</td>\n",
       "      <td>79.317518</td>\n",
       "      <td>5.848700</td>\n",
       "      <td>0.488803</td>\n",
       "      <td>1.968969</td>\n",
       "    </tr>\n",
       "  </tbody>\n",
       "</table>\n",
       "</div>"
      ],
      "text/plain": [
       "                          host_since  host_response_rate  \\\n",
       "count                           2693         2132.000000   \n",
       "mean   2015-11-21 16:32:26.379502336           95.402908   \n",
       "min              2008-03-31 00:00:00            0.000000   \n",
       "25%              2014-04-06 00:00:00          100.000000   \n",
       "50%              2015-11-02 00:00:00          100.000000   \n",
       "75%              2017-08-24 00:00:00          100.000000   \n",
       "max              2021-01-01 00:00:00          100.000000   \n",
       "std                              NaN           14.625032   \n",
       "\n",
       "       host_acceptance_rate  host_is_superhost  host_identity_verified  \\\n",
       "count           2387.000000        2693.000000             2693.000000   \n",
       "mean              89.405111           0.447456                0.807278   \n",
       "min                0.000000           0.000000                0.000000   \n",
       "25%               90.000000           0.000000                1.000000   \n",
       "50%               98.000000           0.000000                1.000000   \n",
       "75%              100.000000           1.000000                1.000000   \n",
       "max              100.000000           1.000000                1.000000   \n",
       "std               20.709495           0.497324                0.394510   \n",
       "\n",
       "       accommodates     bedrooms         beds  minimum_nights  maximum_nights  \\\n",
       "count   2693.000000  2529.000000  2659.000000     2693.000000     2693.000000   \n",
       "mean       3.869662     1.708976     2.219631        8.086521      631.439658   \n",
       "min        0.000000     1.000000     0.000000        1.000000        1.000000   \n",
       "25%        2.000000     1.000000     1.000000        1.000000       31.000000   \n",
       "50%        2.000000     1.000000     1.000000        2.000000     1124.000000   \n",
       "75%        5.000000     2.000000     3.000000        5.000000     1125.000000   \n",
       "max       16.000000     8.000000    27.000000      365.000000    10000.000000   \n",
       "std        3.156237     1.156607     2.031332       18.128635      545.467062   \n",
       "\n",
       "       has_availability  availability_365  number_of_reviews  \\\n",
       "count       2693.000000       2693.000000        2693.000000   \n",
       "mean           0.988489        181.115113          52.891199   \n",
       "min            0.000000          0.000000           0.000000   \n",
       "25%            1.000000         70.000000           2.000000   \n",
       "50%            1.000000        172.000000          20.000000   \n",
       "75%            1.000000        341.000000          68.000000   \n",
       "max            1.000000        365.000000         711.000000   \n",
       "std            0.106691        135.635961          79.317518   \n",
       "\n",
       "       review_scores_rating  instant_bookable  reviews_per_month  \n",
       "count           2279.000000       2693.000000        2293.000000  \n",
       "mean              95.740237          0.394356           1.874348  \n",
       "min               20.000000          0.000000           0.010000  \n",
       "25%               94.000000          0.000000           0.390000  \n",
       "50%               97.000000          0.000000           1.180000  \n",
       "75%              100.000000          1.000000           2.710000  \n",
       "max              100.000000          1.000000          20.040000  \n",
       "std                5.848700          0.488803           1.968969  "
      ]
     },
     "execution_count": 5,
     "metadata": {},
     "output_type": "execute_result"
    }
   ],
   "source": [
    "listings.describe(include = ['int64','float64','datetime64[ns]','int32'])"
   ]
  },
  {
   "cell_type": "code",
   "execution_count": 6,
   "id": "e59f17ce-9fb0-4700-8bbc-541c0bfce47e",
   "metadata": {},
   "outputs": [
    {
     "data": {
      "text/html": [
       "<div>\n",
       "<style scoped>\n",
       "    .dataframe tbody tr th:only-of-type {\n",
       "        vertical-align: middle;\n",
       "    }\n",
       "\n",
       "    .dataframe tbody tr th {\n",
       "        vertical-align: top;\n",
       "    }\n",
       "\n",
       "    .dataframe thead th {\n",
       "        text-align: right;\n",
       "    }\n",
       "</style>\n",
       "<table border=\"1\" class=\"dataframe\">\n",
       "  <thead>\n",
       "    <tr style=\"text-align: right;\">\n",
       "      <th></th>\n",
       "      <th>id</th>\n",
       "      <th>host_id</th>\n",
       "      <th>host_name</th>\n",
       "      <th>host_response_time</th>\n",
       "      <th>host_verifications</th>\n",
       "      <th>neighbourhood</th>\n",
       "      <th>room_type</th>\n",
       "      <th>amenities</th>\n",
       "    </tr>\n",
       "  </thead>\n",
       "  <tbody>\n",
       "    <tr>\n",
       "      <th>count</th>\n",
       "      <td>2693</td>\n",
       "      <td>2693</td>\n",
       "      <td>2693</td>\n",
       "      <td>2132</td>\n",
       "      <td>2693</td>\n",
       "      <td>2693</td>\n",
       "      <td>2693</td>\n",
       "      <td>2693</td>\n",
       "    </tr>\n",
       "    <tr>\n",
       "      <th>unique</th>\n",
       "      <td>2693</td>\n",
       "      <td>2693</td>\n",
       "      <td>1046</td>\n",
       "      <td>4</td>\n",
       "      <td>185</td>\n",
       "      <td>21</td>\n",
       "      <td>4</td>\n",
       "      <td>2631</td>\n",
       "    </tr>\n",
       "    <tr>\n",
       "      <th>top</th>\n",
       "      <td>12651</td>\n",
       "      <td>12651</td>\n",
       "      <td>Zeus</td>\n",
       "      <td>within an hour</td>\n",
       "      <td>['email', 'phone', 'reviews', 'kba']</td>\n",
       "      <td>Daly City</td>\n",
       "      <td>Entire home/apt</td>\n",
       "      <td>[\"Refrigerator\", \"Hot water\", \"Dishes and silv...</td>\n",
       "    </tr>\n",
       "    <tr>\n",
       "      <th>freq</th>\n",
       "      <td>1</td>\n",
       "      <td>1</td>\n",
       "      <td>56</td>\n",
       "      <td>1572</td>\n",
       "      <td>198</td>\n",
       "      <td>455</td>\n",
       "      <td>1571</td>\n",
       "      <td>4</td>\n",
       "    </tr>\n",
       "  </tbody>\n",
       "</table>\n",
       "</div>"
      ],
      "text/plain": [
       "           id  host_id host_name host_response_time  \\\n",
       "count    2693     2693      2693               2132   \n",
       "unique   2693     2693      1046                  4   \n",
       "top     12651    12651      Zeus     within an hour   \n",
       "freq        1        1        56               1572   \n",
       "\n",
       "                          host_verifications neighbourhood        room_type  \\\n",
       "count                                   2693          2693             2693   \n",
       "unique                                   185            21                4   \n",
       "top     ['email', 'phone', 'reviews', 'kba']     Daly City  Entire home/apt   \n",
       "freq                                     198           455             1571   \n",
       "\n",
       "                                                amenities  \n",
       "count                                                2693  \n",
       "unique                                               2631  \n",
       "top     [\"Refrigerator\", \"Hot water\", \"Dishes and silv...  \n",
       "freq                                                    4  "
      ]
     },
     "execution_count": 6,
     "metadata": {},
     "output_type": "execute_result"
    }
   ],
   "source": [
    "listings.describe(include = ['object'])"
   ]
  },
  {
   "cell_type": "markdown",
   "id": "1cbd5512-fb6d-49cc-b8fb-8053bc06ccff",
   "metadata": {},
   "source": [
    "#### Observations & Takeaways\n",
    "* Maximum_nights has a mean of 631 skewed by max values at 10000\n",
    "    * This field should be capped if included in analyses\n",
    "* Max number of reviews of 711 while 75% percentile of 68 indicates a significant right skew\n",
    "    * Can find the implicit time period in months by dividing by reviews_per_month to ensure aligns with the duration from the host start date\n",
    "* Bedrooms have 164 NULL values, but min value of 1\n",
    "    * Fill NULLs with 0\n",
    "    * Will fill 34 records with NULL beds to 0\n",
    "* There are the same number of unique listings as unique host_ids\n",
    "    * Spot check that each host_id represents a distinct host (i.e. individual or business)\n",
    "* There are 56 records in listings with a name of Zeus, and 56 records where the host was created on 11/2/15\n",
    "    * Check if these records are related"
   ]
  },
  {
   "cell_type": "code",
   "execution_count": 7,
   "id": "62da0335-4c18-4648-b804-57796ae79a55",
   "metadata": {},
   "outputs": [],
   "source": [
    "listings['bedrooms'] = listings['bedrooms'].fillna(0)\n",
    "listings['beds'] = listings['beds'].fillna(0)\n",
    "listings['maximum_nights'] = np.clip(listings['maximum_nights'],a_min = 0, a_max = 365)"
   ]
  },
  {
   "cell_type": "markdown",
   "id": "5b740bb3-09de-44cd-9d39-777f0ff240e2",
   "metadata": {},
   "source": [
    "#### Calendar"
   ]
  },
  {
   "cell_type": "code",
   "execution_count": 8,
   "id": "20d6382b-bb9b-4f70-ad78-ede675744ce2",
   "metadata": {},
   "outputs": [],
   "source": [
    "# Convert IDs to object type in order to output unique values using describe\n",
    "calendar['listing_id'] = calendar['listing_id'].astype('object')\n",
    "\n",
    "# Convert date to datetime64[ns] type to output describe summary statistics\n",
    "calendar['date'] = pd.to_datetime(calendar['date'])\n",
    "\n",
    "# Convert t/f to 1/0\n",
    "calendar['available'] = np.where(calendar['available'] == 't',1,0)"
   ]
  },
  {
   "cell_type": "code",
   "execution_count": 9,
   "id": "97fd0390-e1e2-4243-b9cb-b91a421bb608",
   "metadata": {},
   "outputs": [
    {
     "name": "stdout",
     "output_type": "stream",
     "text": [
      "<class 'pandas.core.frame.DataFrame'>\n",
      "RangeIndex: 982950 entries, 0 to 982949\n",
      "Data columns (total 4 columns):\n",
      " #   Column      Non-Null Count   Dtype         \n",
      "---  ------      --------------   -----         \n",
      " 0   listing_id  982950 non-null  object        \n",
      " 1   date        982950 non-null  datetime64[ns]\n",
      " 2   available   982950 non-null  int32         \n",
      " 3   price       982950 non-null  int64         \n",
      "dtypes: datetime64[ns](1), int32(1), int64(1), object(1)\n",
      "memory usage: 26.2+ MB\n"
     ]
    }
   ],
   "source": [
    "calendar.info()"
   ]
  },
  {
   "cell_type": "code",
   "execution_count": 10,
   "id": "744a8961-d565-428e-9847-77821acf7b1f",
   "metadata": {},
   "outputs": [
    {
     "data": {
      "text/html": [
       "<div>\n",
       "<style scoped>\n",
       "    .dataframe tbody tr th:only-of-type {\n",
       "        vertical-align: middle;\n",
       "    }\n",
       "\n",
       "    .dataframe tbody tr th {\n",
       "        vertical-align: top;\n",
       "    }\n",
       "\n",
       "    .dataframe thead th {\n",
       "        text-align: right;\n",
       "    }\n",
       "</style>\n",
       "<table border=\"1\" class=\"dataframe\">\n",
       "  <thead>\n",
       "    <tr style=\"text-align: right;\">\n",
       "      <th></th>\n",
       "      <th>date</th>\n",
       "      <th>available</th>\n",
       "      <th>price</th>\n",
       "    </tr>\n",
       "  </thead>\n",
       "  <tbody>\n",
       "    <tr>\n",
       "      <th>count</th>\n",
       "      <td>982950</td>\n",
       "      <td>982950.000000</td>\n",
       "      <td>982950.000000</td>\n",
       "    </tr>\n",
       "    <tr>\n",
       "      <th>mean</th>\n",
       "      <td>2021-07-03 19:12:03.955440640</td>\n",
       "      <td>0.545272</td>\n",
       "      <td>202.158518</td>\n",
       "    </tr>\n",
       "    <tr>\n",
       "      <th>min</th>\n",
       "      <td>2020-12-29 00:00:00</td>\n",
       "      <td>0.000000</td>\n",
       "      <td>0.000000</td>\n",
       "    </tr>\n",
       "    <tr>\n",
       "      <th>25%</th>\n",
       "      <td>2021-04-04 00:00:00</td>\n",
       "      <td>0.000000</td>\n",
       "      <td>79.000000</td>\n",
       "    </tr>\n",
       "    <tr>\n",
       "      <th>50%</th>\n",
       "      <td>2021-07-04 00:00:00</td>\n",
       "      <td>1.000000</td>\n",
       "      <td>129.000000</td>\n",
       "    </tr>\n",
       "    <tr>\n",
       "      <th>75%</th>\n",
       "      <td>2021-10-03 00:00:00</td>\n",
       "      <td>1.000000</td>\n",
       "      <td>229.000000</td>\n",
       "    </tr>\n",
       "    <tr>\n",
       "      <th>max</th>\n",
       "      <td>2022-01-04 00:00:00</td>\n",
       "      <td>1.000000</td>\n",
       "      <td>10000.000000</td>\n",
       "    </tr>\n",
       "    <tr>\n",
       "      <th>std</th>\n",
       "      <td>NaN</td>\n",
       "      <td>0.497946</td>\n",
       "      <td>325.455831</td>\n",
       "    </tr>\n",
       "  </tbody>\n",
       "</table>\n",
       "</div>"
      ],
      "text/plain": [
       "                                date      available          price\n",
       "count                         982950  982950.000000  982950.000000\n",
       "mean   2021-07-03 19:12:03.955440640       0.545272     202.158518\n",
       "min              2020-12-29 00:00:00       0.000000       0.000000\n",
       "25%              2021-04-04 00:00:00       0.000000      79.000000\n",
       "50%              2021-07-04 00:00:00       1.000000     129.000000\n",
       "75%              2021-10-03 00:00:00       1.000000     229.000000\n",
       "max              2022-01-04 00:00:00       1.000000   10000.000000\n",
       "std                              NaN       0.497946     325.455831"
      ]
     },
     "execution_count": 10,
     "metadata": {},
     "output_type": "execute_result"
    }
   ],
   "source": [
    "calendar.describe(include = ['int64','datetime64[ns]','int32'])"
   ]
  },
  {
   "cell_type": "code",
   "execution_count": 11,
   "id": "cb21d992-596e-4722-a886-06e965414120",
   "metadata": {},
   "outputs": [
    {
     "data": {
      "text/html": [
       "<div>\n",
       "<style scoped>\n",
       "    .dataframe tbody tr th:only-of-type {\n",
       "        vertical-align: middle;\n",
       "    }\n",
       "\n",
       "    .dataframe tbody tr th {\n",
       "        vertical-align: top;\n",
       "    }\n",
       "\n",
       "    .dataframe thead th {\n",
       "        text-align: right;\n",
       "    }\n",
       "</style>\n",
       "<table border=\"1\" class=\"dataframe\">\n",
       "  <thead>\n",
       "    <tr style=\"text-align: right;\">\n",
       "      <th></th>\n",
       "      <th>listing_id</th>\n",
       "    </tr>\n",
       "  </thead>\n",
       "  <tbody>\n",
       "    <tr>\n",
       "      <th>count</th>\n",
       "      <td>982950</td>\n",
       "    </tr>\n",
       "    <tr>\n",
       "      <th>unique</th>\n",
       "      <td>2693</td>\n",
       "    </tr>\n",
       "    <tr>\n",
       "      <th>top</th>\n",
       "      <td>14971411</td>\n",
       "    </tr>\n",
       "    <tr>\n",
       "      <th>freq</th>\n",
       "      <td>366</td>\n",
       "    </tr>\n",
       "  </tbody>\n",
       "</table>\n",
       "</div>"
      ],
      "text/plain": [
       "        listing_id\n",
       "count       982950\n",
       "unique        2693\n",
       "top       14971411\n",
       "freq           366"
      ]
     },
     "execution_count": 11,
     "metadata": {},
     "output_type": "execute_result"
    }
   ],
   "source": [
    "calendar.describe(include = ['object'])"
   ]
  },
  {
   "cell_type": "markdown",
   "id": "4cc60417-1001-464c-90b1-e37e8c6d3ee4",
   "metadata": {},
   "source": [
    "#### Observations & Takeaways\n",
    "* The same number of unique listing_ids exist in both listings and calendar tables\n",
    "* The date range in calendar is larger than 365 days"
   ]
  },
  {
   "cell_type": "markdown",
   "id": "856493aa-8f3b-4227-a801-31f25f516e68",
   "metadata": {},
   "source": [
    "#### 1.2 Test If Results Meet Expectations"
   ]
  },
  {
   "cell_type": "markdown",
   "id": "ea51606d-45a6-4957-855e-c56615a2511a",
   "metadata": {},
   "source": [
    "#### 1.2.1 Exactly 365 calendar records per listing_id over the same time range"
   ]
  },
  {
   "cell_type": "markdown",
   "id": "cea53732-375c-47ec-a495-f0772d2e7320",
   "metadata": {},
   "source": [
    "Result: ❌"
   ]
  },
  {
   "cell_type": "code",
   "execution_count": 12,
   "id": "5735c62d-598e-4fef-986d-cfd4fb17df5a",
   "metadata": {},
   "outputs": [
    {
     "data": {
      "text/plain": [
       "min         max         count\n",
       "2021-01-04  2022-01-03  365      0.454140\n",
       "2021-01-03  2022-01-02  365      0.243595\n",
       "2021-01-02  2022-01-01  365      0.092833\n",
       "2021-01-01  2021-12-31  365      0.075381\n",
       "2020-12-30  2021-12-29  365      0.072039\n",
       "2020-12-31  2021-12-30  365      0.044931\n",
       "2021-01-05  2022-01-04  365      0.012254\n",
       "2020-12-29  2021-12-28  365      0.002971\n",
       "2021-01-04  2022-01-04  366      0.001857\n",
       "Name: proportion, dtype: float64"
      ]
     },
     "execution_count": 12,
     "metadata": {},
     "output_type": "execute_result"
    }
   ],
   "source": [
    "calendar.groupby('listing_id')['date'].agg(['min','max','count']).value_counts(normalize = True)"
   ]
  },
  {
   "cell_type": "code",
   "execution_count": 13,
   "id": "e1212b64-260b-477e-9031-aac4f214166b",
   "metadata": {},
   "outputs": [
    {
     "data": {
      "text/html": [
       "<div>\n",
       "<style scoped>\n",
       "    .dataframe tbody tr th:only-of-type {\n",
       "        vertical-align: middle;\n",
       "    }\n",
       "\n",
       "    .dataframe tbody tr th {\n",
       "        vertical-align: top;\n",
       "    }\n",
       "\n",
       "    .dataframe thead th {\n",
       "        text-align: right;\n",
       "    }\n",
       "</style>\n",
       "<table border=\"1\" class=\"dataframe\">\n",
       "  <thead>\n",
       "    <tr style=\"text-align: right;\">\n",
       "      <th></th>\n",
       "      <th>listing_id</th>\n",
       "      <th>date</th>\n",
       "      <th>available</th>\n",
       "      <th>price</th>\n",
       "      <th>_merge</th>\n",
       "    </tr>\n",
       "  </thead>\n",
       "  <tbody>\n",
       "  </tbody>\n",
       "</table>\n",
       "</div>"
      ],
      "text/plain": [
       "Empty DataFrame\n",
       "Columns: [listing_id, date, available, price, _merge]\n",
       "Index: []"
      ]
     },
     "execution_count": 13,
     "metadata": {},
     "output_type": "execute_result"
    }
   ],
   "source": [
    "# Ensure dates line up with pandas calendar for sample listing with 366 days\n",
    "listing_id = pd.DataFrame(calendar.groupby('listing_id')['date'].count().where(lambda x : x==366).dropna()).join(listings.set_index('id')).index[0]\n",
    "calendar[calendar['listing_id']==listing_id].merge(pd.DataFrame({\"date\": pd.date_range('2021-01-04', '2022-01-04')}),how='left', indicator = True).where(lambda x : x['_merge']!='both').dropna()"
   ]
  },
  {
   "cell_type": "markdown",
   "id": "40db9424-05c4-48df-b060-953eb7893084",
   "metadata": {},
   "source": [
    "##### Data Anomaly\n",
    "* 5 listings have 366 days in the calendar\n",
    "    * While the calendar days align with that of the pandas library, an extra day has been added before or after the intended 365 day period in the future\n",
    "* Listings in the calendar don't have a consistent start and end date\n",
    "    * Potential hypotheses of the cause of calendar date discrepencies across listings include time zone differences, syncing issues, listing updates, hosts integrating their Airbnb calendar with other platforms (i.e. Google Calendar), API limitations, or platform updates or bugs, among others."
   ]
  },
  {
   "cell_type": "markdown",
   "id": "7f6b7c67-46b5-47ca-bc37-788efe5acefc",
   "metadata": {},
   "source": [
    "#### 1.2.2 listings.availability_365 perfectly aligns with calendar.availability aggregated"
   ]
  },
  {
   "cell_type": "markdown",
   "id": "0b13fc40-a8ef-45a0-8867-3f11b3834838",
   "metadata": {},
   "source": [
    "Result: ❌"
   ]
  },
  {
   "cell_type": "code",
   "execution_count": 14,
   "id": "65eaedc5-06a0-4e61-b2ba-b34b925d77f8",
   "metadata": {},
   "outputs": [
    {
     "data": {
      "text/plain": [
       "True     2477\n",
       "False     216\n",
       "Name: count, dtype: int64"
      ]
     },
     "execution_count": 14,
     "metadata": {},
     "output_type": "execute_result"
    }
   ],
   "source": [
    "(pd.Series(list(listings['availability_365']),index = listings['id']).sort_index() == calendar.groupby('listing_id')['available'].sum().sort_index()).value_counts()"
   ]
  },
  {
   "cell_type": "code",
   "execution_count": 15,
   "id": "602a0481-19bc-41d8-b94e-b461081f4eb7",
   "metadata": {},
   "outputs": [],
   "source": [
    "listings = listings.set_index('id').join(pd.DataFrame({'availability_365_calendar' : calendar.groupby('listing_id')['available'].sum().sort_index()}))"
   ]
  },
  {
   "cell_type": "code",
   "execution_count": 16,
   "id": "f2319205-3675-4f47-b41d-ec5220597146",
   "metadata": {},
   "outputs": [
    {
     "data": {
      "text/html": [
       "<div>\n",
       "<style scoped>\n",
       "    .dataframe tbody tr th:only-of-type {\n",
       "        vertical-align: middle;\n",
       "    }\n",
       "\n",
       "    .dataframe tbody tr th {\n",
       "        vertical-align: top;\n",
       "    }\n",
       "\n",
       "    .dataframe thead th {\n",
       "        text-align: right;\n",
       "    }\n",
       "</style>\n",
       "<table border=\"1\" class=\"dataframe\">\n",
       "  <thead>\n",
       "    <tr style=\"text-align: right;\">\n",
       "      <th></th>\n",
       "      <th>availability_365</th>\n",
       "      <th>availability_365_calendar</th>\n",
       "      <th>has_availability</th>\n",
       "    </tr>\n",
       "    <tr>\n",
       "      <th>id</th>\n",
       "      <th></th>\n",
       "      <th></th>\n",
       "      <th></th>\n",
       "    </tr>\n",
       "  </thead>\n",
       "  <tbody>\n",
       "    <tr>\n",
       "      <th>139723</th>\n",
       "      <td>0</td>\n",
       "      <td>64</td>\n",
       "      <td>1</td>\n",
       "    </tr>\n",
       "    <tr>\n",
       "      <th>208309</th>\n",
       "      <td>0</td>\n",
       "      <td>89</td>\n",
       "      <td>1</td>\n",
       "    </tr>\n",
       "    <tr>\n",
       "      <th>236882</th>\n",
       "      <td>0</td>\n",
       "      <td>365</td>\n",
       "      <td>1</td>\n",
       "    </tr>\n",
       "    <tr>\n",
       "      <th>312514</th>\n",
       "      <td>0</td>\n",
       "      <td>324</td>\n",
       "      <td>1</td>\n",
       "    </tr>\n",
       "    <tr>\n",
       "      <th>421119</th>\n",
       "      <td>0</td>\n",
       "      <td>340</td>\n",
       "      <td>1</td>\n",
       "    </tr>\n",
       "    <tr>\n",
       "      <th>...</th>\n",
       "      <td>...</td>\n",
       "      <td>...</td>\n",
       "      <td>...</td>\n",
       "    </tr>\n",
       "    <tr>\n",
       "      <th>45634973</th>\n",
       "      <td>0</td>\n",
       "      <td>360</td>\n",
       "      <td>1</td>\n",
       "    </tr>\n",
       "    <tr>\n",
       "      <th>45961776</th>\n",
       "      <td>0</td>\n",
       "      <td>168</td>\n",
       "      <td>1</td>\n",
       "    </tr>\n",
       "    <tr>\n",
       "      <th>46246846</th>\n",
       "      <td>0</td>\n",
       "      <td>299</td>\n",
       "      <td>1</td>\n",
       "    </tr>\n",
       "    <tr>\n",
       "      <th>47160297</th>\n",
       "      <td>0</td>\n",
       "      <td>34</td>\n",
       "      <td>1</td>\n",
       "    </tr>\n",
       "    <tr>\n",
       "      <th>47247924</th>\n",
       "      <td>0</td>\n",
       "      <td>360</td>\n",
       "      <td>1</td>\n",
       "    </tr>\n",
       "  </tbody>\n",
       "</table>\n",
       "<p>216 rows × 3 columns</p>\n",
       "</div>"
      ],
      "text/plain": [
       "          availability_365  availability_365_calendar  has_availability\n",
       "id                                                                     \n",
       "139723                   0                         64                 1\n",
       "208309                   0                         89                 1\n",
       "236882                   0                        365                 1\n",
       "312514                   0                        324                 1\n",
       "421119                   0                        340                 1\n",
       "...                    ...                        ...               ...\n",
       "45634973                 0                        360                 1\n",
       "45961776                 0                        168                 1\n",
       "46246846                 0                        299                 1\n",
       "47160297                 0                         34                 1\n",
       "47247924                 0                        360                 1\n",
       "\n",
       "[216 rows x 3 columns]"
      ]
     },
     "execution_count": 16,
     "metadata": {},
     "output_type": "execute_result"
    }
   ],
   "source": [
    "listings[listings['availability_365']!=listings['availability_365_calendar']][['availability_365','availability_365_calendar','has_availability']]"
   ]
  },
  {
   "cell_type": "markdown",
   "id": "0dc4ad33-edc0-4c55-bbb0-74f2e53fc31f",
   "metadata": {},
   "source": [
    "#### Data Anomaly\n",
    "* 216 listings have availability_365 of 0 when calendar availability is greater than 0\n",
    "* This isn't explained by has_availability flag which is True is such cases\n",
    "    * has_availability = False may indicate the listing is unlisted"
   ]
  },
  {
   "cell_type": "markdown",
   "id": "bfa2e741-9469-4f43-9ab0-0a4b39798bc5",
   "metadata": {},
   "source": [
    "#### 1.2.3 Each host_id is a distinct person or business"
   ]
  },
  {
   "cell_type": "markdown",
   "id": "60b52749-830e-42d4-b14a-c8048d8e7a36",
   "metadata": {},
   "source": [
    "Result: ❌"
   ]
  },
  {
   "cell_type": "code",
   "execution_count": 17,
   "id": "6dd0326d-edb6-4831-a499-531214c7c320",
   "metadata": {},
   "outputs": [
    {
     "data": {
      "text/html": [
       "<div>\n",
       "<style scoped>\n",
       "    .dataframe tbody tr th:only-of-type {\n",
       "        vertical-align: middle;\n",
       "    }\n",
       "\n",
       "    .dataframe tbody tr th {\n",
       "        vertical-align: top;\n",
       "    }\n",
       "\n",
       "    .dataframe thead th {\n",
       "        text-align: right;\n",
       "    }\n",
       "</style>\n",
       "<table border=\"1\" class=\"dataframe\">\n",
       "  <thead>\n",
       "    <tr style=\"text-align: right;\">\n",
       "      <th></th>\n",
       "      <th>host_name</th>\n",
       "      <th>host_id</th>\n",
       "      <th>host_since</th>\n",
       "      <th>neighbourhood</th>\n",
       "      <th>amenities</th>\n",
       "      <th>host_verifications</th>\n",
       "      <th>host_identity_verified</th>\n",
       "      <th>number_of_reviews</th>\n",
       "      <th>reviews_per_month</th>\n",
       "      <th>availability_365_calendar</th>\n",
       "      <th>host_is_superhost</th>\n",
       "    </tr>\n",
       "    <tr>\n",
       "      <th>id</th>\n",
       "      <th></th>\n",
       "      <th></th>\n",
       "      <th></th>\n",
       "      <th></th>\n",
       "      <th></th>\n",
       "      <th></th>\n",
       "      <th></th>\n",
       "      <th></th>\n",
       "      <th></th>\n",
       "      <th></th>\n",
       "      <th></th>\n",
       "    </tr>\n",
       "  </thead>\n",
       "  <tbody>\n",
       "    <tr>\n",
       "      <th>14251024</th>\n",
       "      <td>Zeus</td>\n",
       "      <td>14251024</td>\n",
       "      <td>2015-11-02</td>\n",
       "      <td>East Palo Alto</td>\n",
       "      <td>[\"Refrigerator\", \"Hot water\", \"Dishes and silv...</td>\n",
       "      <td>['email', 'phone', 'reviews', 'jumio', 'govern...</td>\n",
       "      <td>1</td>\n",
       "      <td>6</td>\n",
       "      <td>0.14</td>\n",
       "      <td>233</td>\n",
       "      <td>0</td>\n",
       "    </tr>\n",
       "    <tr>\n",
       "      <th>15083984</th>\n",
       "      <td>Zeus</td>\n",
       "      <td>15083984</td>\n",
       "      <td>2015-11-02</td>\n",
       "      <td>Unincorporated Areas</td>\n",
       "      <td>[\"Iron\", \"Dishes and silverware\", \"Shampoo\", \"...</td>\n",
       "      <td>['email', 'phone', 'reviews', 'jumio', 'govern...</td>\n",
       "      <td>1</td>\n",
       "      <td>16</td>\n",
       "      <td>0.35</td>\n",
       "      <td>137</td>\n",
       "      <td>0</td>\n",
       "    </tr>\n",
       "    <tr>\n",
       "      <th>15468004</th>\n",
       "      <td>Zeus</td>\n",
       "      <td>15468004</td>\n",
       "      <td>2015-11-02</td>\n",
       "      <td>San Carlos</td>\n",
       "      <td>[\"Extra pillows and blankets\", \"Washer\", \"Firs...</td>\n",
       "      <td>['email', 'phone', 'reviews', 'jumio', 'govern...</td>\n",
       "      <td>1</td>\n",
       "      <td>4</td>\n",
       "      <td>0.12</td>\n",
       "      <td>227</td>\n",
       "      <td>0</td>\n",
       "    </tr>\n",
       "    <tr>\n",
       "      <th>16191206</th>\n",
       "      <td>Zeus</td>\n",
       "      <td>16191206</td>\n",
       "      <td>2015-11-02</td>\n",
       "      <td>Menlo Park</td>\n",
       "      <td>[\"Refrigerator\", \"Hot water\", \"Dishes and silv...</td>\n",
       "      <td>['email', 'phone', 'reviews', 'jumio', 'govern...</td>\n",
       "      <td>1</td>\n",
       "      <td>5</td>\n",
       "      <td>0.11</td>\n",
       "      <td>0</td>\n",
       "      <td>0</td>\n",
       "    </tr>\n",
       "    <tr>\n",
       "      <th>17747326</th>\n",
       "      <td>Zeus</td>\n",
       "      <td>17747326</td>\n",
       "      <td>2015-11-02</td>\n",
       "      <td>Redwood City</td>\n",
       "      <td>[\"Refrigerator\", \"Hot water\", \"Lockbox\", \"Dish...</td>\n",
       "      <td>['email', 'phone', 'reviews', 'jumio', 'govern...</td>\n",
       "      <td>1</td>\n",
       "      <td>2</td>\n",
       "      <td>0.05</td>\n",
       "      <td>148</td>\n",
       "      <td>0</td>\n",
       "    </tr>\n",
       "    <tr>\n",
       "      <th>17843602</th>\n",
       "      <td>Zeus</td>\n",
       "      <td>17843602</td>\n",
       "      <td>2015-11-02</td>\n",
       "      <td>Menlo Park</td>\n",
       "      <td>[\"TV\", \"Hot water\", \"Hangers\", \"Wifi\", \"Dryer\"...</td>\n",
       "      <td>['email', 'phone', 'reviews', 'jumio', 'govern...</td>\n",
       "      <td>1</td>\n",
       "      <td>17</td>\n",
       "      <td>0.37</td>\n",
       "      <td>213</td>\n",
       "      <td>0</td>\n",
       "    </tr>\n",
       "    <tr>\n",
       "      <th>20385475</th>\n",
       "      <td>Zeus</td>\n",
       "      <td>20385475</td>\n",
       "      <td>2015-11-02</td>\n",
       "      <td>Menlo Park</td>\n",
       "      <td>[\"Private entrance\", \"Garden or backyard\", \"Ho...</td>\n",
       "      <td>['email', 'phone', 'reviews', 'jumio', 'govern...</td>\n",
       "      <td>1</td>\n",
       "      <td>2</td>\n",
       "      <td>0.06</td>\n",
       "      <td>222</td>\n",
       "      <td>0</td>\n",
       "    </tr>\n",
       "    <tr>\n",
       "      <th>20390667</th>\n",
       "      <td>Zeus</td>\n",
       "      <td>20390667</td>\n",
       "      <td>2015-11-02</td>\n",
       "      <td>Redwood City</td>\n",
       "      <td>[\"Refrigerator\", \"Hot water\", \"Lockbox\", \"Dish...</td>\n",
       "      <td>['email', 'phone', 'reviews', 'jumio', 'govern...</td>\n",
       "      <td>1</td>\n",
       "      <td>2</td>\n",
       "      <td>0.08</td>\n",
       "      <td>222</td>\n",
       "      <td>0</td>\n",
       "    </tr>\n",
       "    <tr>\n",
       "      <th>20390774</th>\n",
       "      <td>Zeus</td>\n",
       "      <td>20390774</td>\n",
       "      <td>2015-11-02</td>\n",
       "      <td>Redwood City</td>\n",
       "      <td>[\"Refrigerator\", \"Heating\", \"Pool\", \"BBQ grill...</td>\n",
       "      <td>['email', 'phone', 'reviews', 'jumio', 'govern...</td>\n",
       "      <td>1</td>\n",
       "      <td>1</td>\n",
       "      <td>0.03</td>\n",
       "      <td>179</td>\n",
       "      <td>0</td>\n",
       "    </tr>\n",
       "    <tr>\n",
       "      <th>22355178</th>\n",
       "      <td>Zeus</td>\n",
       "      <td>22355178</td>\n",
       "      <td>2015-11-02</td>\n",
       "      <td>Redwood City</td>\n",
       "      <td>[\"Refrigerator\", \"Free parking on premises\", \"...</td>\n",
       "      <td>['email', 'phone', 'reviews', 'jumio', 'govern...</td>\n",
       "      <td>1</td>\n",
       "      <td>3</td>\n",
       "      <td>0.16</td>\n",
       "      <td>311</td>\n",
       "      <td>0</td>\n",
       "    </tr>\n",
       "  </tbody>\n",
       "</table>\n",
       "</div>"
      ],
      "text/plain": [
       "         host_name   host_id host_since         neighbourhood  \\\n",
       "id                                                              \n",
       "14251024      Zeus  14251024 2015-11-02        East Palo Alto   \n",
       "15083984      Zeus  15083984 2015-11-02  Unincorporated Areas   \n",
       "15468004      Zeus  15468004 2015-11-02            San Carlos   \n",
       "16191206      Zeus  16191206 2015-11-02            Menlo Park   \n",
       "17747326      Zeus  17747326 2015-11-02          Redwood City   \n",
       "17843602      Zeus  17843602 2015-11-02            Menlo Park   \n",
       "20385475      Zeus  20385475 2015-11-02            Menlo Park   \n",
       "20390667      Zeus  20390667 2015-11-02          Redwood City   \n",
       "20390774      Zeus  20390774 2015-11-02          Redwood City   \n",
       "22355178      Zeus  22355178 2015-11-02          Redwood City   \n",
       "\n",
       "                                                  amenities  \\\n",
       "id                                                            \n",
       "14251024  [\"Refrigerator\", \"Hot water\", \"Dishes and silv...   \n",
       "15083984  [\"Iron\", \"Dishes and silverware\", \"Shampoo\", \"...   \n",
       "15468004  [\"Extra pillows and blankets\", \"Washer\", \"Firs...   \n",
       "16191206  [\"Refrigerator\", \"Hot water\", \"Dishes and silv...   \n",
       "17747326  [\"Refrigerator\", \"Hot water\", \"Lockbox\", \"Dish...   \n",
       "17843602  [\"TV\", \"Hot water\", \"Hangers\", \"Wifi\", \"Dryer\"...   \n",
       "20385475  [\"Private entrance\", \"Garden or backyard\", \"Ho...   \n",
       "20390667  [\"Refrigerator\", \"Hot water\", \"Lockbox\", \"Dish...   \n",
       "20390774  [\"Refrigerator\", \"Heating\", \"Pool\", \"BBQ grill...   \n",
       "22355178  [\"Refrigerator\", \"Free parking on premises\", \"...   \n",
       "\n",
       "                                         host_verifications  \\\n",
       "id                                                            \n",
       "14251024  ['email', 'phone', 'reviews', 'jumio', 'govern...   \n",
       "15083984  ['email', 'phone', 'reviews', 'jumio', 'govern...   \n",
       "15468004  ['email', 'phone', 'reviews', 'jumio', 'govern...   \n",
       "16191206  ['email', 'phone', 'reviews', 'jumio', 'govern...   \n",
       "17747326  ['email', 'phone', 'reviews', 'jumio', 'govern...   \n",
       "17843602  ['email', 'phone', 'reviews', 'jumio', 'govern...   \n",
       "20385475  ['email', 'phone', 'reviews', 'jumio', 'govern...   \n",
       "20390667  ['email', 'phone', 'reviews', 'jumio', 'govern...   \n",
       "20390774  ['email', 'phone', 'reviews', 'jumio', 'govern...   \n",
       "22355178  ['email', 'phone', 'reviews', 'jumio', 'govern...   \n",
       "\n",
       "          host_identity_verified  number_of_reviews  reviews_per_month  \\\n",
       "id                                                                       \n",
       "14251024                       1                  6               0.14   \n",
       "15083984                       1                 16               0.35   \n",
       "15468004                       1                  4               0.12   \n",
       "16191206                       1                  5               0.11   \n",
       "17747326                       1                  2               0.05   \n",
       "17843602                       1                 17               0.37   \n",
       "20385475                       1                  2               0.06   \n",
       "20390667                       1                  2               0.08   \n",
       "20390774                       1                  1               0.03   \n",
       "22355178                       1                  3               0.16   \n",
       "\n",
       "          availability_365_calendar  host_is_superhost  \n",
       "id                                                      \n",
       "14251024                        233                  0  \n",
       "15083984                        137                  0  \n",
       "15468004                        227                  0  \n",
       "16191206                          0                  0  \n",
       "17747326                        148                  0  \n",
       "17843602                        213                  0  \n",
       "20385475                        222                  0  \n",
       "20390667                        222                  0  \n",
       "20390774                        179                  0  \n",
       "22355178                        311                  0  "
      ]
     },
     "execution_count": 17,
     "metadata": {},
     "output_type": "execute_result"
    }
   ],
   "source": [
    "listings[listings['host_name']=='Zeus'][['host_name','host_id','host_since','neighbourhood','amenities','host_verifications','host_identity_verified','number_of_reviews','reviews_per_month','availability_365_calendar','host_is_superhost']].head(10)"
   ]
  },
  {
   "cell_type": "code",
   "execution_count": 18,
   "id": "294fae1a-8922-4414-8fd4-500479ae3cba",
   "metadata": {},
   "outputs": [
    {
     "data": {
      "text/html": [
       "<div>\n",
       "<style scoped>\n",
       "    .dataframe tbody tr th:only-of-type {\n",
       "        vertical-align: middle;\n",
       "    }\n",
       "\n",
       "    .dataframe tbody tr th {\n",
       "        vertical-align: top;\n",
       "    }\n",
       "\n",
       "    .dataframe thead th {\n",
       "        text-align: right;\n",
       "    }\n",
       "</style>\n",
       "<table border=\"1\" class=\"dataframe\">\n",
       "  <thead>\n",
       "    <tr style=\"text-align: right;\">\n",
       "      <th></th>\n",
       "      <th>nunique</th>\n",
       "      <th>unique</th>\n",
       "    </tr>\n",
       "    <tr>\n",
       "      <th>host_name</th>\n",
       "      <th></th>\n",
       "      <th></th>\n",
       "    </tr>\n",
       "  </thead>\n",
       "  <tbody>\n",
       "    <tr>\n",
       "      <th>Zeus</th>\n",
       "      <td>56.0</td>\n",
       "      <td>[14251024, 15083984, 15468004, 16191206, 17747...</td>\n",
       "    </tr>\n",
       "    <tr>\n",
       "      <th>Vic</th>\n",
       "      <td>31.0</td>\n",
       "      <td>[1122033, 1122179, 1126135, 1140091, 1140126, ...</td>\n",
       "    </tr>\n",
       "    <tr>\n",
       "      <th>Startup House</th>\n",
       "      <td>27.0</td>\n",
       "      <td>[39469121, 39469191, 39469223, 39469357, 39469...</td>\n",
       "    </tr>\n",
       "    <tr>\n",
       "      <th>Alex</th>\n",
       "      <td>27.0</td>\n",
       "      <td>[9462798, 10467127, 10597505, 17389591, 208021...</td>\n",
       "    </tr>\n",
       "    <tr>\n",
       "      <th>Kimberly</th>\n",
       "      <td>25.0</td>\n",
       "      <td>[18278319, 18287949, 18289176, 18296748, 18297...</td>\n",
       "    </tr>\n",
       "    <tr>\n",
       "      <th>...</th>\n",
       "      <td>...</td>\n",
       "      <td>...</td>\n",
       "    </tr>\n",
       "    <tr>\n",
       "      <th>Shanta Marie</th>\n",
       "      <td>2.0</td>\n",
       "      <td>[24633476, 30528339]</td>\n",
       "    </tr>\n",
       "    <tr>\n",
       "      <th>Zheng (Roddy)</th>\n",
       "      <td>2.0</td>\n",
       "      <td>[4833768, 16081052]</td>\n",
       "    </tr>\n",
       "    <tr>\n",
       "      <th>Hank</th>\n",
       "      <td>2.0</td>\n",
       "      <td>[44796883, 44909294]</td>\n",
       "    </tr>\n",
       "    <tr>\n",
       "      <th>Aline</th>\n",
       "      <td>2.0</td>\n",
       "      <td>[2299551, 40154726]</td>\n",
       "    </tr>\n",
       "    <tr>\n",
       "      <th>Silvestre</th>\n",
       "      <td>2.0</td>\n",
       "      <td>[34341273, 37751419]</td>\n",
       "    </tr>\n",
       "  </tbody>\n",
       "</table>\n",
       "<p>465 rows × 2 columns</p>\n",
       "</div>"
      ],
      "text/plain": [
       "               nunique                                             unique\n",
       "host_name                                                                \n",
       "Zeus              56.0  [14251024, 15083984, 15468004, 16191206, 17747...\n",
       "Vic               31.0  [1122033, 1122179, 1126135, 1140091, 1140126, ...\n",
       "Startup House     27.0  [39469121, 39469191, 39469223, 39469357, 39469...\n",
       "Alex              27.0  [9462798, 10467127, 10597505, 17389591, 208021...\n",
       "Kimberly          25.0  [18278319, 18287949, 18289176, 18296748, 18297...\n",
       "...                ...                                                ...\n",
       "Shanta Marie       2.0                               [24633476, 30528339]\n",
       "Zheng (Roddy)      2.0                                [4833768, 16081052]\n",
       "Hank               2.0                               [44796883, 44909294]\n",
       "Aline              2.0                                [2299551, 40154726]\n",
       "Silvestre          2.0                               [34341273, 37751419]\n",
       "\n",
       "[465 rows x 2 columns]"
      ]
     },
     "execution_count": 18,
     "metadata": {},
     "output_type": "execute_result"
    }
   ],
   "source": [
    "listings.groupby('host_name')['host_id'].agg(['nunique','unique']).sort_values('nunique',ascending=False).where(lambda x: x['nunique']>1).dropna()"
   ]
  },
  {
   "cell_type": "markdown",
   "id": "300e7089-3183-4991-8147-31bc297f0bfa",
   "metadata": {},
   "source": [
    "#### Data Anomaly\n",
    "* The 56 listings with host_name of Zeus all have the same starting date of 11/2/15 but different host_ids\n",
    "    * Given no other hosts had a starting date of 11/2/15, it seems unlikely that all 56 Zeus listings are independant\n",
    "        * Given the identify of Zeus has been verified, Zeus may not be a bot or spammer\n",
    "        * One hypothesis is that 'Zeus' is an inidividual host or managemeent company with multiple properties that has created separate accounts for administrative purposes\n",
    "    * While 45% of listings have host_is_superhost of True, none of the Zeus listings have host_is_superhost\n",
    "        * This may indicate that other host level fields outside of id are being correctly measured at the host level \n",
    "* There are 465 host_names that are duplicated\n",
    "    * As an assumption to distinguish different hosts, a distinct host_name + host_since may be used"
   ]
  },
  {
   "cell_type": "code",
   "execution_count": 19,
   "id": "2509d5e1-d986-4c2f-8690-cdd2aece2f7e",
   "metadata": {},
   "outputs": [],
   "source": [
    "# Create new estimated host_id\n",
    "listings['host_id_new'] = listings['host_name'] + listings['host_since'].map(str)"
   ]
  },
  {
   "cell_type": "markdown",
   "id": "545fdbcb-0689-4b38-bf4b-b82aa4f35240",
   "metadata": {},
   "source": [
    "#### 1.2.4 review_scores_rating of NULL coincides with 0 number_of_reviews"
   ]
  },
  {
   "cell_type": "markdown",
   "id": "a8916817-8d73-476a-8d3d-17323a9d2036",
   "metadata": {},
   "source": [
    "Result: ❌"
   ]
  },
  {
   "cell_type": "code",
   "execution_count": 20,
   "id": "2ab2dcc1-ddb9-494b-9e9f-186259de26db",
   "metadata": {},
   "outputs": [
    {
     "data": {
      "text/plain": [
       "number_of_reviews\n",
       "0                    400\n",
       "1                     12\n",
       "2                      1\n",
       "3                      1\n",
       "Name: count, dtype: int64"
      ]
     },
     "execution_count": 20,
     "metadata": {},
     "output_type": "execute_result"
    }
   ],
   "source": [
    "#listings[listings['reviews_per_month'].isnull()][['number_of_reviews']].value_counts()\n",
    "listings[listings['review_scores_rating'].isnull()][['number_of_reviews']].value_counts()"
   ]
  },
  {
   "cell_type": "code",
   "execution_count": 21,
   "id": "144e1599-d6ad-4d9e-8c6b-b1e103b03f81",
   "metadata": {},
   "outputs": [
    {
     "data": {
      "text/plain": [
       "review_scores_rating  reviews_per_month\n",
       "True                  True                 400\n",
       "Name: count, dtype: int64"
      ]
     },
     "execution_count": 21,
     "metadata": {},
     "output_type": "execute_result"
    }
   ],
   "source": [
    "listings[listings['number_of_reviews']==0][['review_scores_rating','reviews_per_month']].isnull().value_counts()"
   ]
  },
  {
   "cell_type": "markdown",
   "id": "f9bcf434-890d-4fe5-a45d-834cd3c99b1b",
   "metadata": {},
   "source": [
    "#### Data Anomaly\n",
    "* While all listings with 0 reviews have a NULL review_scores_rating, 14 listings without a review_scores_rating have at least 1 review\n",
    "    * This may indicate a review can be left without a score\n",
    "    * It may also indicate deleted reviews are being omitted from the review_scores_rating but not the number_of_reviews\n",
    "    * Will fill NA with 0 noting the discrepency among 14 listings\n",
    "* Can fill NAs of reviews_per_month to 0 as it coincides with 0 number_of_reviews"
   ]
  },
  {
   "cell_type": "code",
   "execution_count": 22,
   "id": "012fac5e-2782-4b40-9ab7-c6b8db14eeec",
   "metadata": {},
   "outputs": [],
   "source": [
    "listings['reviews_per_month'] = listings['reviews_per_month'].fillna(0)"
   ]
  },
  {
   "cell_type": "code",
   "execution_count": 23,
   "id": "18cc7371-5d0a-4de8-be5d-9e3aa4c76bde",
   "metadata": {},
   "outputs": [],
   "source": [
    "listings['review_scores_rating'] = listings['review_scores_rating'].fillna(0)"
   ]
  },
  {
   "cell_type": "markdown",
   "id": "ccc68b44-5361-4ff8-a29c-330774d4b713",
   "metadata": {},
   "source": [
    "#### 1.3 Exploratory Analysis"
   ]
  },
  {
   "cell_type": "markdown",
   "id": "f3e8ccf3-fb4a-4e9c-9e03-2a88c9016f77",
   "metadata": {},
   "source": [
    "#### 1.3.1 Check if 1 - available may be a good proxy for a booking\n",
    "* If reduced availability is driven by bookings, one may expect to see that listings from hosts that have accepted booking requests (host_acceptance_rate > 0) would have lower availability relative to hosts that haven't"
   ]
  },
  {
   "cell_type": "code",
   "execution_count": 54,
   "id": "9691c14e-cb55-4c0f-8f6e-61e1de24a86d",
   "metadata": {},
   "outputs": [
    {
     "data": {
      "image/png": "[encoded data removed]",
      "text/plain": [
       "<Figure size 640x480 with 1 Axes>"
      ]
     },
     "metadata": {},
     "output_type": "display_data"
    }
   ],
   "source": [
    "x = listings[listings['host_acceptance_rate'].fillna(0)>0]['availability_365_calendar']\n",
    "y = listings[listings['host_acceptance_rate'].fillna(0)==0]['availability_365_calendar']\n",
    "\n",
    "plt.hist([x, y], label=['Accepted a Booking Request', 'Has Not Accepted a Booking Request'],density=True)\n",
    "plt.legend(loc='upper right')\n",
    "plt.title(\"Histogram of availability_365_calendar\")\n",
    "plt.show()"
   ]
  },
  {
   "cell_type": "markdown",
   "id": "623e6f9d-bc5c-4658-8cfd-b02ddccde2f1",
   "metadata": {
    "jp-MarkdownHeadingCollapsed": true
   },
   "source": [
    "#### Observations & Takeaways\n",
    "* Minus some noise, the distribution of availability_365 is ~ proportionate across both sets of hosts regardless of whether they've recieved a booking requests\n",
    "    * The conclusion is that 1 - calendar.availabile may not be a good proxy for a booking (given it may be more representative of 'blacked-out' days by the host than bookings)"
   ]
  },
  {
   "cell_type": "markdown",
   "id": "893a5277-4498-4a97-a970-24e4521cb60a",
   "metadata": {},
   "source": [
    "#### 1.3.2 Host is Superhost"
   ]
  },
  {
   "cell_type": "markdown",
   "id": "05f25fd3-9493-4fa5-b92c-82ba7cc044bf",
   "metadata": {},
   "source": [
    "Airbnb's site indicates the following requirements over the last 12 months to be a superhost (https://www.airbnb.ca/help/article/829)\n",
    "* Completed at least 10 trips or 3 reservations that total at least 100 nights\n",
    "* Maintained a 90% response rate or higher\n",
    "* Maintained a less than 1% cancellation rate, with exceptions made for those that fall under our Major Disruptive Events Policy\n",
    "* Maintained a 4.8 overall rating (A review counts toward Superhost status when either both the guest and the Host have submitted a review, or the 14-day window for reviews is over, whichever comes first).\n",
    "\n",
    "Response rate is available in the dataset, although likely not on the same 12-month time period currently used to identify super hosts. "
   ]
  },
  {
   "cell_type": "code",
   "execution_count": 25,
   "id": "d5fb5401-1a10-4c66-bd7d-95a588e2726c",
   "metadata": {},
   "outputs": [
    {
     "data": {
      "image/png": "[encoded data removed]",
      "text/plain": [
       "<Figure size 640x480 with 1 Axes>"
      ]
     },
     "metadata": {},
     "output_type": "display_data"
    }
   ],
   "source": [
    "x = listings[listings['host_is_superhost']==1]['host_response_rate']\n",
    "y = listings[listings['host_is_superhost']==0]['host_response_rate']\n",
    "\n",
    "plt.hist([x, y], label=['Superhost', 'Not a Superhost'],density=True)\n",
    "plt.legend(loc='upper right')\n",
    "plt.title(\"Histogram of availability_365\")\n",
    "plt.show()"
   ]
  },
  {
   "cell_type": "markdown",
   "id": "24189e67-2e2b-4340-b0d8-d3498221fbe8",
   "metadata": {},
   "source": [
    "#### Observations & Takeaways\n",
    "* Superhosts do have higher response rates on average than non-superhosts\n",
    "    * The observed data seems reasonable based on the superhost requirements given a different time period is being considered for response rates\n",
    "* Given superhost designation required hosts to have '10 trips or 3 reservations that total at least 100 nights' in ~ the last 12 months, this is a useful data point to determine which hosts have listings that have been booked recently"
   ]
  },
  {
   "cell_type": "code",
   "execution_count": 26,
   "id": "204553b7-6bc2-44d9-95a5-035e1ec4c57f",
   "metadata": {},
   "outputs": [
    {
     "data": {
      "text/plain": [
       "Index(['host_id', 'host_name', 'host_since', 'host_response_time',\n",
       "       'host_response_rate', 'host_acceptance_rate', 'host_is_superhost',\n",
       "       'host_verifications', 'host_identity_verified', 'neighbourhood',\n",
       "       'room_type', 'accommodates', 'bedrooms', 'beds', 'amenities',\n",
       "       'minimum_nights', 'maximum_nights', 'has_availability',\n",
       "       'availability_365', 'number_of_reviews', 'review_scores_rating',\n",
       "       'instant_bookable', 'reviews_per_month', 'availability_365_calendar',\n",
       "       'host_id_new'],\n",
       "      dtype='object')"
      ]
     },
     "execution_count": 26,
     "metadata": {},
     "output_type": "execute_result"
    }
   ],
   "source": [
    "listings.columns"
   ]
  },
  {
   "cell_type": "markdown",
   "id": "c6d5f777-d598-43fa-aea1-17c571119234",
   "metadata": {},
   "source": [
    "#### 1.3.3 Listing Accomodates"
   ]
  },
  {
   "cell_type": "code",
   "execution_count": 27,
   "id": "726bf80a-5a05-48c5-8456-833409546e57",
   "metadata": {},
   "outputs": [
    {
     "data": {
      "image/png": "[encoded data removed]",
      "text/plain": [
       "<Figure size 640x480 with 1 Axes>"
      ]
     },
     "metadata": {},
     "output_type": "display_data"
    }
   ],
   "source": [
    "x = listings[listings['host_is_superhost']==1]['accommodates']\n",
    "y = listings[listings['host_is_superhost']==0]['accommodates']\n",
    "\n",
    "plt.hist([x, y], label=['Superhost', 'Not a Superhost'],density=True)\n",
    "plt.legend(loc='upper right')\n",
    "plt.title(\"Histogram of Listing Accomodates\")\n",
    "plt.show()"
   ]
  },
  {
   "cell_type": "markdown",
   "id": "0162e19e-d390-4687-9b81-67e9a4b2d0cd",
   "metadata": {},
   "source": [
    "## 2.  Calculate the average listing price by calendar day. \n",
    "* Based on the results, do you notice any performance trends of listing price over time? \n",
    "* If so, please describe them and give short explanations on why you think this could happen?"
   ]
  },
  {
   "cell_type": "code",
   "execution_count": 28,
   "id": "b3df9efb-a8fe-40b8-b23a-c0d8d19bf4dd",
   "metadata": {},
   "outputs": [
    {
     "data": {
      "image/png": "[encoded data removed]",
      "text/plain": [
       "<Figure size 640x480 with 1 Axes>"
      ]
     },
     "metadata": {},
     "output_type": "display_data"
    }
   ],
   "source": [
    "aggregations = ['mean','median']\n",
    "plt.plot(calendar.groupby('date')['price'].agg(aggregations),label = aggregations)\n",
    "plt.legend(loc=\"upper right\")\n",
    "plt.title(\"Listing Price by Calendar Day\")\n",
    "plt.show()"
   ]
  },
  {
   "cell_type": "code",
   "execution_count": 29,
   "id": "162152b9-28aa-4abc-af3e-a53bbc8b986d",
   "metadata": {},
   "outputs": [
    {
     "data": {
      "image/png": "[encoded data removed]",
      "text/plain": [
       "<Figure size 640x480 with 1 Axes>"
      ]
     },
     "metadata": {},
     "output_type": "display_data"
    }
   ],
   "source": [
    "aggregations = ['mean','median']\n",
    "dayofweek = calendar.groupby(calendar.date.dt.dayofweek + 1)['price'].agg(aggregations)\n",
    "plt.plot(dayofweek,label = aggregations)\n",
    "plt.legend(loc=\"upper right\")\n",
    "plt.title(\"Listing Price by Day of Week\")\n",
    "plt.show()"
   ]
  },
  {
   "cell_type": "markdown",
   "id": "53318469-7d71-4a98-94bd-2c17549fcb7e",
   "metadata": {},
   "source": [
    "#### Observable patterns & associated hypotheses\n",
    "1. The average listing price increases at 2021-05 then begins dropping slightly in 2021-09\n",
    "    *  Likely indicative of seasonality in summer months, which could be driven by:\n",
    "        * Increased demand for Airbnb rentals in the summer months when vacations and trips can be more common may drive up the price\n",
    "        * Some hosts may only rent their cottages outside of summer months, reducing supply in the summer, further driving up the price\n",
    "    * Given this period was during the COVID-19 pandemic, it's possible that there was an expectation by (hosts, users, or Airbnb) that regular travelling behavior may return by 2021-05\n",
    "        * This could be based on anticipation of increasing vaccination rates (initial vaccine released on Dec 14 2020), improved management of the pandemic, or other social/political factors\n",
    "2. Week day variation - Fridays and Saturdays have higher than average pricing\n",
    "    * People may be more likely to book trips and rent an Airbnb on the weekend, resulting in higher demand and an ensuing price increase on the weekend\n",
    "3. The median listing price is ~ increasing monotonically throughout the year minus weekly/daily variation\n",
    "    * This could be indicative of an upward trend or cyclicality beyond the seasonality within a year (or effects directly attributable by the COVID-19 pandemic)\n",
    "        * Inflation driven from monetary policy and the increasing printing of money during the COVID-19 pandemic could drive up the cost of property rentals\n",
    "            * I.e. Property tax, house cleaning, hydro & gas"
   ]
  },
  {
   "cell_type": "markdown",
   "id": "a5b904b8-18b7-4346-8d11-d0449bdde6f5",
   "metadata": {},
   "source": [
    "## 3. Suppose Airbnb charges 10% commission fee on each booked listing. \n",
    "* Please use the data to give business operation recommendations on how to increase the commission revenue."
   ]
  },
  {
   "cell_type": "markdown",
   "id": "314c86c6-c35d-45b8-8fdc-cd848972a42b",
   "metadata": {},
   "source": [
    "#### 3.1 Build Dataset"
   ]
  },
  {
   "cell_type": "markdown",
   "id": "104a1251-48f0-4ba0-b8f6-c0fe65a2eacf",
   "metadata": {},
   "source": [
    "#### 3.1.1 Create a copy of listings and drop columns"
   ]
  },
  {
   "cell_type": "code",
   "execution_count": 30,
   "id": "d1d676d2-9358-4807-be7d-2aeb290ee2eb",
   "metadata": {},
   "outputs": [
    {
     "data": {
      "text/plain": [
       "Index(['host_id', 'host_name', 'host_since', 'host_response_time',\n",
       "       'host_response_rate', 'host_acceptance_rate', 'host_is_superhost',\n",
       "       'host_verifications', 'host_identity_verified', 'neighbourhood',\n",
       "       'room_type', 'accommodates', 'bedrooms', 'beds', 'amenities',\n",
       "       'minimum_nights', 'maximum_nights', 'has_availability',\n",
       "       'availability_365', 'number_of_reviews', 'review_scores_rating',\n",
       "       'instant_bookable', 'reviews_per_month', 'availability_365_calendar',\n",
       "       'host_id_new', 'avg_calendar_price'],\n",
       "      dtype='object')"
      ]
     },
     "execution_count": 30,
     "metadata": {},
     "output_type": "execute_result"
    }
   ],
   "source": [
    "# Combine listings with avg calendar price and consider only available listings\n",
    "dataset = listings[listings['has_availability']==1].join(pd.DataFrame({\"avg_calendar_price\":calendar.groupby('listing_id')['price'].mean()}))\n",
    "dataset.head(1)\n",
    "dataset.columns"
   ]
  },
  {
   "cell_type": "code",
   "execution_count": 31,
   "id": "b04a8c75-91d6-4f39-a500-eb1344e292d3",
   "metadata": {},
   "outputs": [
    {
     "data": {
      "text/plain": [
       "Index(['host_since', 'host_response_time', 'host_response_rate',\n",
       "       'host_acceptance_rate', 'host_is_superhost', 'host_identity_verified',\n",
       "       'neighbourhood', 'room_type', 'accommodates', 'bedrooms', 'beds',\n",
       "       'amenities', 'minimum_nights', 'maximum_nights', 'review_scores_rating',\n",
       "       'instant_bookable', 'host_id_new', 'avg_calendar_price'],\n",
       "      dtype='object')"
      ]
     },
     "execution_count": 31,
     "metadata": {},
     "output_type": "execute_result"
    }
   ],
   "source": [
    "# Drop Columns\n",
    "dataset=dataset.drop(['host_id','host_name','host_verifications','availability_365','has_availability','reviews_per_month','number_of_reviews','availability_365_calendar'],axis=1)\n",
    "# number_of_reviews and reviews_per_month excluded to circumvent circularity as the goal of the the model will be to predict hosts with bookings (superhosts)\n",
    "dataset.head(1)\n",
    "dataset.columns"
   ]
  },
  {
   "cell_type": "markdown",
   "id": "d2667c51-5a82-4ba7-a2fc-3b350146ec31",
   "metadata": {},
   "source": [
    "#### 3.1.2 Engineer Features"
   ]
  },
  {
   "cell_type": "code",
   "execution_count": 32,
   "id": "e25b6836-9e9a-47f1-a834-a10fb17d66ce",
   "metadata": {},
   "outputs": [
    {
     "data": {
      "text/plain": [
       "id\n",
       "12651    11.173925\n",
       "Name: host_years, dtype: float64"
      ]
     },
     "execution_count": 32,
     "metadata": {},
     "output_type": "execute_result"
    }
   ],
   "source": [
    "# host_years\n",
    "\n",
    "data_extract_date = pd.to_datetime(\"2020-12-29\") \n",
    "dataset['host_years'] = (data_extract_date - dataset['host_since']).dt.total_seconds()/3.154e+7\n",
    "dataset['host_years'].head(1)"
   ]
  },
  {
   "cell_type": "code",
   "execution_count": 33,
   "id": "f754772c-181f-4083-a69c-2fc089d016b3",
   "metadata": {},
   "outputs": [
    {
     "name": "stdout",
     "output_type": "stream",
     "text": [
      "['within an hour' 'within a few hours' 'within a day' 'a few days or more'\n",
      " nan]\n"
     ]
    }
   ],
   "source": [
    "# host_response_time\n",
    "\n",
    "print(dataset['host_response_time'].bfill().unique())\n",
    "dataset = dataset.join(pd.get_dummies(dataset['host_response_time']).astype('int32'))"
   ]
  },
  {
   "cell_type": "code",
   "execution_count": 34,
   "id": "a299bf31-fd4b-49df-bc75-8d6814062fc6",
   "metadata": {},
   "outputs": [],
   "source": [
    "# Define get_dummies_topn\n",
    "\n",
    "def get_dummies_topn(n,col,id = 'id', dataset = dataset.reset_index()):\n",
    "    topnlevels = list(pd.Series(dataset.groupby('neighbourhood')['neighbourhood'].count().sort_values(ascending = False)/len(dataset)).index[:n])\n",
    "    dataset[col] = np.where(dataset[col].isin(topnlevels),dataset[col],None)\n",
    "    dummies = pd.get_dummies(dataset[col])\n",
    "    dummies['id'] = dataset['id']\n",
    "    return dummies.set_index('id').astype('int32')"
   ]
  },
  {
   "cell_type": "code",
   "execution_count": 35,
   "id": "c14351b9-a8c0-4f3a-a71b-bf9946f54277",
   "metadata": {},
   "outputs": [],
   "source": [
    "# Neighbourhood\n",
    "\n",
    "dataset.reset_index().groupby('neighbourhood')['id'].count().sort_values(ascending = False)/len(dataset)\n",
    "dataset = dataset.join(get_dummies_topn(5, 'neighbourhood'))"
   ]
  },
  {
   "cell_type": "code",
   "execution_count": 36,
   "id": "56c4be77-9ded-48bf-aed7-1632ca5a87fc",
   "metadata": {},
   "outputs": [],
   "source": [
    "# Room Type\n",
    "\n",
    "dataset.reset_index().groupby('room_type')['id'].count().sort_values(ascending = False)/len(dataset)\n",
    "dataset = pd.concat([dataset,get_dummies_topn(3, 'room_type')],axis=1)"
   ]
  },
  {
   "cell_type": "code",
   "execution_count": 37,
   "id": "5d8d2c05-5c33-4f90-8e0e-bf70e685ef11",
   "metadata": {},
   "outputs": [],
   "source": [
    "# Host Acceptance Rate\n",
    "\n",
    "dataset['host_acceptance_rate'] = dataset['host_acceptance_rate'].fillna(0)"
   ]
  },
  {
   "cell_type": "code",
   "execution_count": 38,
   "id": "822eb52e-52e3-466f-a677-10789f253e95",
   "metadata": {},
   "outputs": [],
   "source": [
    "# Host Response Rate\n",
    "\n",
    "dataset['host_response_rate'] = dataset['host_response_rate'].fillna(0)\n",
    "# NULL encapsulated in intercept given not included in host_response_time dummies"
   ]
  },
  {
   "cell_type": "code",
   "execution_count": 39,
   "id": "79b290f0-431e-447d-b86b-7bdbc6655e20",
   "metadata": {},
   "outputs": [],
   "source": [
    "# Amenity Count\n",
    "\n",
    "dataset['amenity_count']=[len(ast.literal_eval(amenities)) for amenities in dataset['amenities']]"
   ]
  },
  {
   "cell_type": "code",
   "execution_count": 40,
   "id": "609da79c-e306-4a64-b45c-3aab67d40318",
   "metadata": {},
   "outputs": [],
   "source": [
    "# # Specific Amenities - Exclude\n",
    "\n",
    "# warnings.filterwarnings(action = 'ignore')\n",
    "# amenity_counts = pd.Series([amenity for amenities in dataset['amenities'] for amenity in ast.literal_eval(amenities)]).value_counts()\n",
    "# amenity_counts\n",
    "# dataset_w_amenity = dataset.copy()\n",
    "# for i, amenity in enumerate(amenity_counts.index):\n",
    "#     if 0.1 < amenity_counts[i]/len(dataset) < 0.9:\n",
    "#         dataset_w_amenity[amenity] = dataset_w_amenity['amenities'].str.contains(amenity).astype('int32')\n",
    "# warnings.filterwarnings(action = 'default')"
   ]
  },
  {
   "cell_type": "code",
   "execution_count": 41,
   "id": "4f874c8d-28e1-4047-b71b-a6c3c58d3d4a",
   "metadata": {},
   "outputs": [],
   "source": [
    "del dataset['host_since'], dataset['host_response_time'], dataset['neighbourhood'], dataset['room_type'], dataset['amenities']"
   ]
  },
  {
   "cell_type": "markdown",
   "id": "b0e34e70-fac7-4977-bf8d-db9015007061",
   "metadata": {},
   "source": [
    "#### 3.2 Assess Multicollinearity"
   ]
  },
  {
   "cell_type": "code",
   "execution_count": 42,
   "id": "d604eefb-f6c5-4489-aac4-cdd1957a98e8",
   "metadata": {},
   "outputs": [
    {
     "data": {
      "text/plain": [
       "Text(0.5, 1.0, 'Feature Correlation Matrix')"
      ]
     },
     "execution_count": 42,
     "metadata": {},
     "output_type": "execute_result"
    },
    {
     "data": {
      "image/png": "[encoded data removed]",
      "text/plain": [
       "<Figure size 640x480 with 2 Axes>"
      ]
     },
     "metadata": {},
     "output_type": "display_data"
    }
   ],
   "source": [
    "# Correlation Plot of Numerical Features with Correlation > 0.4\n",
    "\n",
    "sb.heatmap(dataset.drop('host_id_new',axis=1).corr()[dataset.drop('host_id_new',axis=1).corr()>0.4], cmap=\"YlGnBu\", annot=False)\n",
    "plt.title('Feature Correlation Matrix')"
   ]
  },
  {
   "cell_type": "code",
   "execution_count": 43,
   "id": "b1137f57-0508-4b3d-8bed-984dde362d02",
   "metadata": {},
   "outputs": [],
   "source": [
    "dataset = dataset.drop(['beds','bedrooms','within an hour'],axis=1)"
   ]
  },
  {
   "cell_type": "markdown",
   "id": "d942f196-54b4-4c71-ae53-c05ebba0f20e",
   "metadata": {},
   "source": [
    "#### Takeaways\n",
    "* Accomodates kept instead of beds and bedrooms given no handling of NULLs was required\n",
    "* within an hour response time removed because of high collinearity with host response rate"
   ]
  },
  {
   "cell_type": "markdown",
   "id": "724322fa-408e-41b9-83cb-d972d853a3fa",
   "metadata": {},
   "source": [
    "#### 3.3 Model to predict superhosts\n",
    "\n",
    "Given the absense of booking data, superhosts offer an indirect approach to identify hosts that had recent bookings\n",
    "* Superhost Requirements: https://www.airbnb.ca/help/article/829\n",
    "    * \"Completed at least 10 trips or 3 reservations that total at least 100 nights\"\n",
    "* Approach limitations/assumptions\n",
    "    * Superhost status is based on the last 12 months (on quarterly intervals), not future booking history\n",
    "    *  Other factors like response rate, cancellation rate, and rating are used to determine super hosts\n",
    "        *  Response rate is included as a model feature (albeit over a different time period) which creates a level of circularity.\n",
    "            * An approach was considered to filter out hosts with a response rate <90%, however, it would negatively affect model communicatability/interpretability\n",
    "        * Other hosts that perform well in bookings/trips (but not in these metrics) may be excluded\n",
    "        * Superhost criteria may have been different when the provided data was extracted\n",
    "    *  Assumption that a large (if not majority) share of Airbnb bookings come from superhosts"
   ]
  },
  {
   "cell_type": "markdown",
   "id": "c76e414a-cb1d-40c4-b581-1b7f7a23e241",
   "metadata": {},
   "source": [
    "#### 3.3.1 Aggregate listings to host level using average"
   ]
  },
  {
   "cell_type": "code",
   "execution_count": 44,
   "id": "aae7f2fc-111c-4a3a-9ebd-b119617e05bd",
   "metadata": {},
   "outputs": [
    {
     "name": "stdout",
     "output_type": "stream",
     "text": [
      "<class 'pandas.core.frame.DataFrame'>\n",
      "Index: 1494 entries, 5r Suites2017-07-31 00:00:00 to Zubin2014-02-04 00:00:00\n",
      "Data columns (total 21 columns):\n",
      " #   Column                  Non-Null Count  Dtype  \n",
      "---  ------                  --------------  -----  \n",
      " 0   host_response_rate      1494 non-null   float64\n",
      " 1   host_acceptance_rate    1494 non-null   float64\n",
      " 2   host_identity_verified  1494 non-null   int32  \n",
      " 3   host_is_superhost       1494 non-null   float64\n",
      " 4   accommodates            1494 non-null   float64\n",
      " 5   minimum_nights          1494 non-null   float64\n",
      " 6   maximum_nights          1494 non-null   float64\n",
      " 7   review_scores_rating    1494 non-null   float64\n",
      " 8   instant_bookable        1494 non-null   float64\n",
      " 9   avg_calendar_price      1494 non-null   float64\n",
      " 10  host_years              1494 non-null   float64\n",
      " 11  a few days or more      1494 non-null   float64\n",
      " 12  within a day            1494 non-null   float64\n",
      " 13  within a few hours      1494 non-null   float64\n",
      " 14  Daly City               1494 non-null   float64\n",
      " 15  Menlo Park              1494 non-null   float64\n",
      " 16  Redwood City            1494 non-null   float64\n",
      " 17  San Mateo               1494 non-null   float64\n",
      " 18  Unincorporated Areas    1494 non-null   float64\n",
      " 19  amenity_count           1494 non-null   float64\n",
      " 20  listings                1494 non-null   int64  \n",
      "dtypes: float64(19), int32(1), int64(1)\n",
      "memory usage: 283.2+ KB\n"
     ]
    }
   ],
   "source": [
    "host_data = dataset.groupby(['host_id_new','host_response_rate','host_acceptance_rate','host_identity_verified']).mean().reset_index().set_index('host_id_new')\n",
    "host_data = host_data.join(pd.DataFrame({'listings' : dataset.groupby(['host_id_new'])['host_id_new'].count()}))\n",
    "host_data.info()"
   ]
  },
  {
   "cell_type": "code",
   "execution_count": 45,
   "id": "69040aaf-beba-42f6-9e6a-685f711e24d0",
   "metadata": {},
   "outputs": [],
   "source": [
    "superhost = host_data.pop('host_is_superhost')\n",
    "avg_calendar_price = host_data.pop('avg_calendar_price')"
   ]
  },
  {
   "cell_type": "markdown",
   "id": "94a8e1f4-a9ad-46de-b36e-d21665c58e2d",
   "metadata": {},
   "source": [
    "#### 3.3.2 Fit Logistic Model"
   ]
  },
  {
   "cell_type": "code",
   "execution_count": 46,
   "id": "0d8a51f8-58f3-41ee-8e13-4a2adaf6d282",
   "metadata": {},
   "outputs": [
    {
     "name": "stdout",
     "output_type": "stream",
     "text": [
      "Optimization terminated successfully.\n",
      "         Current function value: 0.504011\n",
      "         Iterations 8\n"
     ]
    },
    {
     "data": {
      "text/html": [
       "<table class=\"simpletable\">\n",
       "<caption>Logit Regression Results</caption>\n",
       "<tr>\n",
       "  <th>Dep. Variable:</th>   <td>host_is_superhost</td> <th>  No. Observations:  </th>   <td>  1494</td>  \n",
       "</tr>\n",
       "<tr>\n",
       "  <th>Model:</th>                 <td>Logit</td>       <th>  Df Residuals:      </th>   <td>  1474</td>  \n",
       "</tr>\n",
       "<tr>\n",
       "  <th>Method:</th>                 <td>MLE</td>        <th>  Df Model:          </th>   <td>    19</td>  \n",
       "</tr>\n",
       "<tr>\n",
       "  <th>Date:</th>            <td>Wed, 10 Jul 2024</td>  <th>  Pseudo R-squ.:     </th>   <td>0.2722</td>  \n",
       "</tr>\n",
       "<tr>\n",
       "  <th>Time:</th>                <td>07:49:40</td>      <th>  Log-Likelihood:    </th>  <td> -752.99</td> \n",
       "</tr>\n",
       "<tr>\n",
       "  <th>converged:</th>             <td>True</td>        <th>  LL-Null:           </th>  <td> -1034.7</td> \n",
       "</tr>\n",
       "<tr>\n",
       "  <th>Covariance Type:</th>     <td>nonrobust</td>     <th>  LLR p-value:       </th> <td>2.717e-107</td>\n",
       "</tr>\n",
       "</table>\n",
       "<table class=\"simpletable\">\n",
       "<tr>\n",
       "             <td></td>               <th>coef</th>     <th>std err</th>      <th>z</th>      <th>P>|z|</th>  <th>[0.025</th>    <th>0.975]</th>  \n",
       "</tr>\n",
       "<tr>\n",
       "  <th>const</th>                  <td>   -5.5137</td> <td>    0.476</td> <td>  -11.582</td> <td> 0.000</td> <td>   -6.447</td> <td>   -4.581</td>\n",
       "</tr>\n",
       "<tr>\n",
       "  <th>host_response_rate</th>     <td>    0.0027</td> <td>    0.002</td> <td>    1.478</td> <td> 0.139</td> <td>   -0.001</td> <td>    0.006</td>\n",
       "</tr>\n",
       "<tr>\n",
       "  <th>host_acceptance_rate</th>   <td>    0.0248</td> <td>    0.003</td> <td>    9.503</td> <td> 0.000</td> <td>    0.020</td> <td>    0.030</td>\n",
       "</tr>\n",
       "<tr>\n",
       "  <th>host_identity_verified</th> <td>    0.0364</td> <td>    0.152</td> <td>    0.239</td> <td> 0.811</td> <td>   -0.262</td> <td>    0.335</td>\n",
       "</tr>\n",
       "<tr>\n",
       "  <th>accommodates</th>           <td>   -0.0915</td> <td>    0.024</td> <td>   -3.761</td> <td> 0.000</td> <td>   -0.139</td> <td>   -0.044</td>\n",
       "</tr>\n",
       "<tr>\n",
       "  <th>minimum_nights</th>         <td>    0.0020</td> <td>    0.004</td> <td>    0.509</td> <td> 0.611</td> <td>   -0.006</td> <td>    0.010</td>\n",
       "</tr>\n",
       "<tr>\n",
       "  <th>maximum_nights</th>         <td>   -0.0005</td> <td>    0.000</td> <td>   -1.328</td> <td> 0.184</td> <td>   -0.001</td> <td>    0.000</td>\n",
       "</tr>\n",
       "<tr>\n",
       "  <th>review_scores_rating</th>   <td>    0.0252</td> <td>    0.004</td> <td>    6.969</td> <td> 0.000</td> <td>    0.018</td> <td>    0.032</td>\n",
       "</tr>\n",
       "<tr>\n",
       "  <th>instant_bookable</th>       <td>   -0.1770</td> <td>    0.145</td> <td>   -1.223</td> <td> 0.221</td> <td>   -0.461</td> <td>    0.107</td>\n",
       "</tr>\n",
       "<tr>\n",
       "  <th>host_years</th>             <td>    0.0581</td> <td>    0.029</td> <td>    1.980</td> <td> 0.048</td> <td>    0.001</td> <td>    0.116</td>\n",
       "</tr>\n",
       "<tr>\n",
       "  <th>a few days or more</th>     <td>   -2.4170</td> <td>    1.097</td> <td>   -2.203</td> <td> 0.028</td> <td>   -4.567</td> <td>   -0.267</td>\n",
       "</tr>\n",
       "<tr>\n",
       "  <th>within a day</th>           <td>   -0.7353</td> <td>    0.237</td> <td>   -3.109</td> <td> 0.002</td> <td>   -1.199</td> <td>   -0.272</td>\n",
       "</tr>\n",
       "<tr>\n",
       "  <th>within a few hours</th>     <td>   -0.1142</td> <td>    0.189</td> <td>   -0.604</td> <td> 0.546</td> <td>   -0.485</td> <td>    0.257</td>\n",
       "</tr>\n",
       "<tr>\n",
       "  <th>Daly City</th>              <td>    0.1386</td> <td>    0.203</td> <td>    0.684</td> <td> 0.494</td> <td>   -0.258</td> <td>    0.536</td>\n",
       "</tr>\n",
       "<tr>\n",
       "  <th>Menlo Park</th>             <td>   -0.1287</td> <td>    0.247</td> <td>   -0.522</td> <td> 0.602</td> <td>   -0.612</td> <td>    0.355</td>\n",
       "</tr>\n",
       "<tr>\n",
       "  <th>Redwood City</th>           <td>    0.4947</td> <td>    0.243</td> <td>    2.039</td> <td> 0.041</td> <td>    0.019</td> <td>    0.970</td>\n",
       "</tr>\n",
       "<tr>\n",
       "  <th>San Mateo</th>              <td>    0.0035</td> <td>    0.222</td> <td>    0.016</td> <td> 0.987</td> <td>   -0.432</td> <td>    0.439</td>\n",
       "</tr>\n",
       "<tr>\n",
       "  <th>Unincorporated Areas</th>   <td>    0.3539</td> <td>    0.192</td> <td>    1.842</td> <td> 0.066</td> <td>   -0.023</td> <td>    0.730</td>\n",
       "</tr>\n",
       "<tr>\n",
       "  <th>amenity_count</th>          <td>    0.0510</td> <td>    0.008</td> <td>    6.123</td> <td> 0.000</td> <td>    0.035</td> <td>    0.067</td>\n",
       "</tr>\n",
       "<tr>\n",
       "  <th>listings</th>               <td>   -0.0783</td> <td>    0.030</td> <td>   -2.604</td> <td> 0.009</td> <td>   -0.137</td> <td>   -0.019</td>\n",
       "</tr>\n",
       "</table>"
      ],
      "text/latex": [
       "\\begin{center}\n",
       "\\begin{tabular}{lclc}\n",
       "\\toprule\n",
       "\\textbf{Dep. Variable:}           & host\\_is\\_superhost & \\textbf{  No. Observations:  } &     1494    \\\\\n",
       "\\textbf{Model:}                   &        Logit        & \\textbf{  Df Residuals:      } &     1474    \\\\\n",
       "\\textbf{Method:}                  &         MLE         & \\textbf{  Df Model:          } &       19    \\\\\n",
       "\\textbf{Date:}                    &   Wed, 10 Jul 2024  & \\textbf{  Pseudo R-squ.:     } &   0.2722    \\\\\n",
       "\\textbf{Time:}                    &       07:49:40      & \\textbf{  Log-Likelihood:    } &   -752.99   \\\\\n",
       "\\textbf{converged:}               &         True        & \\textbf{  LL-Null:           } &   -1034.7   \\\\\n",
       "\\textbf{Covariance Type:}         &      nonrobust      & \\textbf{  LLR p-value:       } & 2.717e-107  \\\\\n",
       "\\bottomrule\n",
       "\\end{tabular}\n",
       "\\begin{tabular}{lcccccc}\n",
       "                                  & \\textbf{coef} & \\textbf{std err} & \\textbf{z} & \\textbf{P$> |$z$|$} & \\textbf{[0.025} & \\textbf{0.975]}  \\\\\n",
       "\\midrule\n",
       "\\textbf{const}                    &      -5.5137  &        0.476     &   -11.582  &         0.000        &       -6.447    &       -4.581     \\\\\n",
       "\\textbf{host\\_response\\_rate}     &       0.0027  &        0.002     &     1.478  &         0.139        &       -0.001    &        0.006     \\\\\n",
       "\\textbf{host\\_acceptance\\_rate}   &       0.0248  &        0.003     &     9.503  &         0.000        &        0.020    &        0.030     \\\\\n",
       "\\textbf{host\\_identity\\_verified} &       0.0364  &        0.152     &     0.239  &         0.811        &       -0.262    &        0.335     \\\\\n",
       "\\textbf{accommodates}             &      -0.0915  &        0.024     &    -3.761  &         0.000        &       -0.139    &       -0.044     \\\\\n",
       "\\textbf{minimum\\_nights}          &       0.0020  &        0.004     &     0.509  &         0.611        &       -0.006    &        0.010     \\\\\n",
       "\\textbf{maximum\\_nights}          &      -0.0005  &        0.000     &    -1.328  &         0.184        &       -0.001    &        0.000     \\\\\n",
       "\\textbf{review\\_scores\\_rating}   &       0.0252  &        0.004     &     6.969  &         0.000        &        0.018    &        0.032     \\\\\n",
       "\\textbf{instant\\_bookable}        &      -0.1770  &        0.145     &    -1.223  &         0.221        &       -0.461    &        0.107     \\\\\n",
       "\\textbf{host\\_years}              &       0.0581  &        0.029     &     1.980  &         0.048        &        0.001    &        0.116     \\\\\n",
       "\\textbf{a few days or more}       &      -2.4170  &        1.097     &    -2.203  &         0.028        &       -4.567    &       -0.267     \\\\\n",
       "\\textbf{within a day}             &      -0.7353  &        0.237     &    -3.109  &         0.002        &       -1.199    &       -0.272     \\\\\n",
       "\\textbf{within a few hours}       &      -0.1142  &        0.189     &    -0.604  &         0.546        &       -0.485    &        0.257     \\\\\n",
       "\\textbf{Daly City}                &       0.1386  &        0.203     &     0.684  &         0.494        &       -0.258    &        0.536     \\\\\n",
       "\\textbf{Menlo Park}               &      -0.1287  &        0.247     &    -0.522  &         0.602        &       -0.612    &        0.355     \\\\\n",
       "\\textbf{Redwood City}             &       0.4947  &        0.243     &     2.039  &         0.041        &        0.019    &        0.970     \\\\\n",
       "\\textbf{San Mateo}                &       0.0035  &        0.222     &     0.016  &         0.987        &       -0.432    &        0.439     \\\\\n",
       "\\textbf{Unincorporated Areas}     &       0.3539  &        0.192     &     1.842  &         0.066        &       -0.023    &        0.730     \\\\\n",
       "\\textbf{amenity\\_count}           &       0.0510  &        0.008     &     6.123  &         0.000        &        0.035    &        0.067     \\\\\n",
       "\\textbf{listings}                 &      -0.0783  &        0.030     &    -2.604  &         0.009        &       -0.137    &       -0.019     \\\\\n",
       "\\bottomrule\n",
       "\\end{tabular}\n",
       "%\\caption{Logit Regression Results}\n",
       "\\end{center}"
      ],
      "text/plain": [
       "<class 'statsmodels.iolib.summary.Summary'>\n",
       "\"\"\"\n",
       "                           Logit Regression Results                           \n",
       "==============================================================================\n",
       "Dep. Variable:      host_is_superhost   No. Observations:                 1494\n",
       "Model:                          Logit   Df Residuals:                     1474\n",
       "Method:                           MLE   Df Model:                           19\n",
       "Date:                Wed, 10 Jul 2024   Pseudo R-squ.:                  0.2722\n",
       "Time:                        07:49:40   Log-Likelihood:                -752.99\n",
       "converged:                       True   LL-Null:                       -1034.7\n",
       "Covariance Type:            nonrobust   LLR p-value:                2.717e-107\n",
       "==========================================================================================\n",
       "                             coef    std err          z      P>|z|      [0.025      0.975]\n",
       "------------------------------------------------------------------------------------------\n",
       "const                     -5.5137      0.476    -11.582      0.000      -6.447      -4.581\n",
       "host_response_rate         0.0027      0.002      1.478      0.139      -0.001       0.006\n",
       "host_acceptance_rate       0.0248      0.003      9.503      0.000       0.020       0.030\n",
       "host_identity_verified     0.0364      0.152      0.239      0.811      -0.262       0.335\n",
       "accommodates              -0.0915      0.024     -3.761      0.000      -0.139      -0.044\n",
       "minimum_nights             0.0020      0.004      0.509      0.611      -0.006       0.010\n",
       "maximum_nights            -0.0005      0.000     -1.328      0.184      -0.001       0.000\n",
       "review_scores_rating       0.0252      0.004      6.969      0.000       0.018       0.032\n",
       "instant_bookable          -0.1770      0.145     -1.223      0.221      -0.461       0.107\n",
       "host_years                 0.0581      0.029      1.980      0.048       0.001       0.116\n",
       "a few days or more        -2.4170      1.097     -2.203      0.028      -4.567      -0.267\n",
       "within a day              -0.7353      0.237     -3.109      0.002      -1.199      -0.272\n",
       "within a few hours        -0.1142      0.189     -0.604      0.546      -0.485       0.257\n",
       "Daly City                  0.1386      0.203      0.684      0.494      -0.258       0.536\n",
       "Menlo Park                -0.1287      0.247     -0.522      0.602      -0.612       0.355\n",
       "Redwood City               0.4947      0.243      2.039      0.041       0.019       0.970\n",
       "San Mateo                  0.0035      0.222      0.016      0.987      -0.432       0.439\n",
       "Unincorporated Areas       0.3539      0.192      1.842      0.066      -0.023       0.730\n",
       "amenity_count              0.0510      0.008      6.123      0.000       0.035       0.067\n",
       "listings                  -0.0783      0.030     -2.604      0.009      -0.137      -0.019\n",
       "==========================================================================================\n",
       "\"\"\""
      ]
     },
     "execution_count": 46,
     "metadata": {},
     "output_type": "execute_result"
    }
   ],
   "source": [
    "superhost_model = sm.Logit(superhost, sm.add_constant(host_data)).fit()\n",
    "superhost_model.summary()"
   ]
  },
  {
   "cell_type": "code",
   "execution_count": 47,
   "id": "494af113-1ffa-4b55-80da-2117a727fe19",
   "metadata": {},
   "outputs": [
    {
     "name": "stdout",
     "output_type": "stream",
     "text": [
      "AUC on Training Set: 0.82\n"
     ]
    }
   ],
   "source": [
    "# AUC\n",
    "from sklearn.metrics import roc_auc_score\n",
    "print(\"AUC on Training Set: \" + str(round(roc_auc_score(superhost, superhost_model.predict(sm.add_constant(host_data))),3)))"
   ]
  },
  {
   "cell_type": "markdown",
   "id": "6428f177-580e-4c62-b929-bab9e0da7579",
   "metadata": {},
   "source": [
    "#### 3.4 Model to predict avg_calendar_price if superhost"
   ]
  },
  {
   "cell_type": "code",
   "execution_count": 48,
   "id": "4f37253f-272f-43ef-b2f2-b5776b5cc10f",
   "metadata": {},
   "outputs": [],
   "source": [
    "superhost_data = host_data[superhost == 1]\n",
    "avg_calendar_price = avg_calendar_price[superhost == 1]\n",
    "log_avg_calendar_price = np.log(avg_calendar_price)"
   ]
  },
  {
   "cell_type": "code",
   "execution_count": 49,
   "id": "84c78cc9-a4a3-4e6e-8fe3-f1ca6a860192",
   "metadata": {},
   "outputs": [
    {
     "name": "stdout",
     "output_type": "stream",
     "text": [
      "                            OLS Regression Results                            \n",
      "==============================================================================\n",
      "Dep. Variable:     avg_calendar_price   R-squared:                       0.646\n",
      "Model:                            OLS   Adj. R-squared:                  0.637\n",
      "Method:                 Least Squares   F-statistic:                     67.36\n",
      "Date:                Wed, 10 Jul 2024   Prob (F-statistic):          7.55e-144\n",
      "Time:                        07:49:40   Log-Likelihood:                -345.43\n",
      "No. Observations:                 721   AIC:                             730.9\n",
      "Df Residuals:                     701   BIC:                             822.5\n",
      "Df Model:                          19                                         \n",
      "Covariance Type:            nonrobust                                         \n",
      "==========================================================================================\n",
      "                             coef    std err          t      P>|t|      [0.025      0.975]\n",
      "------------------------------------------------------------------------------------------\n",
      "const                      4.2478      0.148     28.637      0.000       3.957       4.539\n",
      "host_response_rate         0.0006      0.000      1.468      0.142      -0.000       0.001\n",
      "host_acceptance_rate      -0.0016      0.001     -1.853      0.064      -0.003    9.57e-05\n",
      "host_identity_verified     0.0447      0.036      1.237      0.216      -0.026       0.116\n",
      "accommodates               0.1692      0.006     28.805      0.000       0.158       0.181\n",
      "minimum_nights            -0.0028      0.001     -2.119      0.034      -0.005      -0.000\n",
      "maximum_nights            -0.0002   9.74e-05     -2.393      0.017      -0.000   -4.18e-05\n",
      "review_scores_rating   -8.009e-06      0.001     -0.007      0.994      -0.002       0.002\n",
      "instant_bookable          -0.0143      0.034     -0.422      0.673      -0.081       0.052\n",
      "host_years                -0.0024      0.007     -0.342      0.732      -0.016       0.011\n",
      "a few days or more        -0.3805      0.400     -0.952      0.341      -1.165       0.404\n",
      "within a day              -0.0347      0.065     -0.535      0.593      -0.162       0.093\n",
      "within a few hours         0.0461      0.044      1.047      0.295      -0.040       0.133\n",
      "Daly City                 -0.1586      0.050     -3.165      0.002      -0.257      -0.060\n",
      "Menlo Park                 0.2348      0.063      3.726      0.000       0.111       0.358\n",
      "Redwood City               0.0260      0.052      0.498      0.618      -0.076       0.128\n",
      "San Mateo                 -0.0699      0.054     -1.298      0.195      -0.176       0.036\n",
      "Unincorporated Areas       0.1930      0.042      4.569      0.000       0.110       0.276\n",
      "amenity_count              0.0088      0.002      4.275      0.000       0.005       0.013\n",
      "listings                  -0.0175      0.010     -1.783      0.075      -0.037       0.002\n",
      "==============================================================================\n",
      "Omnibus:                       24.468   Durbin-Watson:                   2.054\n",
      "Prob(Omnibus):                  0.000   Jarque-Bera (JB):               31.727\n",
      "Skew:                           0.344   Prob(JB):                     1.29e-07\n",
      "Kurtosis:                       3.763   Cond. No.                     7.95e+03\n",
      "==============================================================================\n",
      "\n",
      "Notes:\n",
      "[1] Standard Errors assume that the covariance matrix of the errors is correctly specified.\n",
      "[2] The condition number is large, 7.95e+03. This might indicate that there are\n",
      "strong multicollinearity or other numerical problems.\n"
     ]
    }
   ],
   "source": [
    "# AVG Daily Spend Model\n",
    "\n",
    "superhost_avg_price_model = sm.OLS(log_avg_calendar_price,sm.add_constant(superhost_data)).fit()\n",
    "\n",
    "print(superhost_avg_price_model.summary())"
   ]
  },
  {
   "cell_type": "code",
   "execution_count": 50,
   "id": "e4390648-1299-4076-a7b3-f479a12c0807",
   "metadata": {},
   "outputs": [
    {
     "data": {
      "text/plain": [
       "Text(0.5, 1.0, 'QQ Plot')"
      ]
     },
     "execution_count": 50,
     "metadata": {},
     "output_type": "execute_result"
    },
    {
     "data": {
      "image/png": "[encoded data removed]",
      "text/plain": [
       "<Figure size 640x480 with 1 Axes>"
      ]
     },
     "metadata": {},
     "output_type": "display_data"
    }
   ],
   "source": [
    "sm.qqplot(superhost_avg_price_model.resid, line='q')\n",
    "plt.title(\"QQ Plot\")"
   ]
  },
  {
   "cell_type": "markdown",
   "id": "992eb66c-8793-48ad-8d28-5245daea3ca7",
   "metadata": {},
   "source": [
    "#### 3.5 Combine Model Coefficients"
   ]
  },
  {
   "cell_type": "code",
   "execution_count": 51,
   "id": "7ec32d53-bfa9-4fa8-a93f-76109bb71a7b",
   "metadata": {},
   "outputs": [],
   "source": [
    "def relative_risk(coef, intercept = superhost_avg_price_model.params['const']):\n",
    "    def sigmoid(x):\n",
    "        return 1/(1+np.exp(-x))\n",
    "    return sigmoid(intercept + coef)/sigmoid(intercept)"
   ]
  },
  {
   "cell_type": "code",
   "execution_count": 52,
   "id": "78b03664-b274-4bad-bc98-eab6d2d3f36b",
   "metadata": {
    "scrolled": true
   },
   "outputs": [
    {
     "data": {
      "text/html": [
       "<div>\n",
       "<style scoped>\n",
       "    .dataframe tbody tr th:only-of-type {\n",
       "        vertical-align: middle;\n",
       "    }\n",
       "\n",
       "    .dataframe tbody tr th {\n",
       "        vertical-align: top;\n",
       "    }\n",
       "\n",
       "    .dataframe thead th {\n",
       "        text-align: right;\n",
       "    }\n",
       "</style>\n",
       "<table border=\"1\" class=\"dataframe\">\n",
       "  <thead>\n",
       "    <tr style=\"text-align: right;\">\n",
       "      <th></th>\n",
       "      <th>superhost</th>\n",
       "      <th>superhost_avg_calendar_price</th>\n",
       "    </tr>\n",
       "    <tr>\n",
       "      <th>index</th>\n",
       "      <th></th>\n",
       "      <th></th>\n",
       "    </tr>\n",
       "  </thead>\n",
       "  <tbody>\n",
       "    <tr>\n",
       "      <th>host_acceptance_rate</th>\n",
       "      <td>1.000346</td>\n",
       "      <td>NaN</td>\n",
       "    </tr>\n",
       "    <tr>\n",
       "      <th>accommodates</th>\n",
       "      <td>0.998651</td>\n",
       "      <td>1.184386</td>\n",
       "    </tr>\n",
       "    <tr>\n",
       "      <th>review_scores_rating</th>\n",
       "      <td>1.000351</td>\n",
       "      <td>NaN</td>\n",
       "    </tr>\n",
       "    <tr>\n",
       "      <th>host_years</th>\n",
       "      <td>1.000796</td>\n",
       "      <td>NaN</td>\n",
       "    </tr>\n",
       "    <tr>\n",
       "      <th>a few days or more</th>\n",
       "      <td>0.874178</td>\n",
       "      <td>NaN</td>\n",
       "    </tr>\n",
       "    <tr>\n",
       "      <th>within a day</th>\n",
       "      <td>0.984923</td>\n",
       "      <td>NaN</td>\n",
       "    </tr>\n",
       "    <tr>\n",
       "      <th>Redwood City</th>\n",
       "      <td>1.005531</td>\n",
       "      <td>NaN</td>\n",
       "    </tr>\n",
       "    <tr>\n",
       "      <th>amenity_count</th>\n",
       "      <td>1.000701</td>\n",
       "      <td>1.008792</td>\n",
       "    </tr>\n",
       "    <tr>\n",
       "      <th>listings</th>\n",
       "      <td>0.998853</td>\n",
       "      <td>NaN</td>\n",
       "    </tr>\n",
       "    <tr>\n",
       "      <th>minimum_nights</th>\n",
       "      <td>NaN</td>\n",
       "      <td>0.997180</td>\n",
       "    </tr>\n",
       "    <tr>\n",
       "      <th>maximum_nights</th>\n",
       "      <td>NaN</td>\n",
       "      <td>0.999767</td>\n",
       "    </tr>\n",
       "    <tr>\n",
       "      <th>Daly City</th>\n",
       "      <td>NaN</td>\n",
       "      <td>0.853316</td>\n",
       "    </tr>\n",
       "    <tr>\n",
       "      <th>Menlo Park</th>\n",
       "      <td>NaN</td>\n",
       "      <td>1.264626</td>\n",
       "    </tr>\n",
       "    <tr>\n",
       "      <th>Unincorporated Areas</th>\n",
       "      <td>NaN</td>\n",
       "      <td>1.212896</td>\n",
       "    </tr>\n",
       "  </tbody>\n",
       "</table>\n",
       "</div>"
      ],
      "text/plain": [
       "                      superhost  superhost_avg_calendar_price\n",
       "index                                                        \n",
       "host_acceptance_rate   1.000346                           NaN\n",
       "accommodates           0.998651                      1.184386\n",
       "review_scores_rating   1.000351                           NaN\n",
       "host_years             1.000796                           NaN\n",
       "a few days or more     0.874178                           NaN\n",
       "within a day           0.984923                           NaN\n",
       "Redwood City           1.005531                           NaN\n",
       "amenity_count          1.000701                      1.008792\n",
       "listings               0.998853                           NaN\n",
       "minimum_nights              NaN                      0.997180\n",
       "maximum_nights              NaN                      0.999767\n",
       "Daly City                   NaN                      0.853316\n",
       "Menlo Park                  NaN                      1.264626\n",
       "Unincorporated Areas        NaN                      1.212896"
      ]
     },
     "execution_count": 52,
     "metadata": {},
     "output_type": "execute_result"
    }
   ],
   "source": [
    "superhost_relative_risk = pd.DataFrame({'superhost':superhost_model.params.apply(relative_risk)[superhost_model.pvalues<=0.05]})\n",
    "superhost_avg_price_coef = pd.DataFrame({'superhost_avg_calendar_price':np.exp(superhost_avg_price_model.params[superhost_avg_price_model.pvalues<=0.05])})\n",
    "pd.DataFrame(superhost_relative_risk.reset_index()).merge(superhost_avg_price_coef.reset_index(),how = 'outer').set_index('index')[1:]"
   ]
  },
  {
   "cell_type": "markdown",
   "id": "4c1ec184-ff28-42ae-b76f-8c5967e59ec7",
   "metadata": {},
   "source": [
    "Observations/Takeaways\n",
    "* 4/5 neighbourhoods included in the superhost_avg_price were statistically significant\n",
    "    * This could mean there is a different supply/demand balance for rentals by neighbourhood\n",
    "* For each additional person a superhost's listings accomodate (on average), inferred avg_calendar_price goes up by 18%\n",
    "    * The likelihood of being a superhost goes down slightly\n",
    "        * May be indicative of histogram from 1.3.3 which showed ~30% of listings from superhosts had only 2 accomodates, while the respective share was ~ 5% lower for non-superhosts\n",
    "* Each additional amenity per listing is found to slightly increase the liklihood of being a superhost and the associated avg_calendar_price\n",
    "    * No statistically significant relationships observed when including individual amenities in the model (hence features ommitted)\n",
    "    * Opportunity to use object recognition to tag amenities in user uploaded photos to save host's time and support user discovery\n",
    "* Direct criteria for superhosts (hence no takeaway otherwise)\n",
    "    * Response time assumed to correlate with response rate\n",
    "    * review_scores_rating\n",
    "    * host_acceptance_rate could correlate with host cancellation rate"
   ]
  },
  {
   "cell_type": "code",
   "execution_count": null,
   "id": "45092bce-0c05-4dc9-b178-994e437de22a",
   "metadata": {},
   "outputs": [],
   "source": []
  }
 ],
 "metadata": {
  "kernelspec": {
   "display_name": "Python 3 (ipykernel)",
   "language": "python",
   "name": "python3"
  },
  "language_info": {
   "codemirror_mode": {
    "name": "ipython",
    "version": 3
   },
   "file_extension": ".py",
   "mimetype": "text/x-python",
   "name": "python",
   "nbconvert_exporter": "python",
   "pygments_lexer": "ipython3",
   "version": "3.11.5"
  }
 },
 "nbformat": 4,
 "nbformat_minor": 5
}
